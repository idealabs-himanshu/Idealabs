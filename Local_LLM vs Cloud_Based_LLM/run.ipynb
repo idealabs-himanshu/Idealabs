{
 "cells": [
  {
   "cell_type": "code",
   "execution_count": null,
   "metadata": {},
   "outputs": [],
   "source": [
    "'''\n",
    "Step 1 - Download ollama from https://ollama.com/download \n",
    "\n",
    "Step 2 - Run the following command on the terminal : ollama pull tinyllama \n",
    "\n",
    "Step 3 - then use this boiler code to test if the tinyllama \n",
    "model is successfully downloaded or not\n",
    "\n",
    "import ollama\n",
    "def test_tinyllama():\n",
    "    try:\n",
    "        print(\"Testing TinyLlama...\")\n",
    "        response = ollama.generate(\n",
    "            model='tinyllama',\n",
    "            prompt='Hello, what can you do?'\n",
    "        )\n",
    "        print(\"\\nResponse from TinyLlama:\")\n",
    "        print(response['response'])\n",
    "    except Exception as e:\n",
    "        print(\"Error:\", e)\n",
    "\n",
    "if __name__ == \"__main__\":\n",
    "    test_tinyllama()\n",
    "'''"
   ]
  },
  {
   "cell_type": "code",
   "execution_count": null,
   "metadata": {},
   "outputs": [],
   "source": [
    "# Import required libraries\n",
    "import pandas as pd\n",
    "import numpy as np\n",
    "import time\n",
    "import re\n",
    "from typing import Dict, List, Tuple\n",
    "import ollama\n",
    "from openai import AzureOpenAI\n",
    "from datetime import datetime\n",
    "import string\n",
    "from dotenv import load_dotenv\n",
    "import os\n",
    "\n",
    "load_dotenv()\n",
    "\n",
    "api_key = os.getenv(\"API_KEY\")\n",
    "azure_endpoint = os.getenv(\"AZURE_ENDPOINT\")\n",
    "deployment_name = os.getenv(\"DEPLOYMENT_NAME\")\n",
    "api_version = os.getenv(\"API_VERSION\")"
   ]
  },
  {
   "cell_type": "code",
   "execution_count": 30,
   "metadata": {},
   "outputs": [],
   "source": [
    "# Cell 2: ModelEvaluator Class Definition\n",
    "class ModelEvaluator:\n",
    "    def __init__(self, azure_endpoint: str, deployment_name: str, api_version: str, api_key: str):\n",
    "        \"\"\"Initialize the evaluator with Azure OpenAI credentials\"\"\"\n",
    "        print(\"\\n🔄 Initializing Model Evaluator...\")\n",
    "        try:\n",
    "            self.azure_client = AzureOpenAI(\n",
    "                azure_endpoint=azure_endpoint,\n",
    "                api_key=api_key,\n",
    "                api_version=api_version\n",
    "            )\n",
    "            self.deployment_name = deployment_name\n",
    "            print(\"✅ Azure OpenAI client initialized successfully\")\n",
    "            \n",
    "            ollama.list()\n",
    "            print(\"✅ Ollama connection verified\")\n",
    "            \n",
    "        except Exception as e:\n",
    "            print(f\"❌ Initialization Error: {e}\")\n",
    "            raise\n",
    "\n",
    "    def create_prompt(self, question: str, choices: List[str]) -> str:\n",
    "        \"\"\"Create enhanced prompt with strict answer requirements\"\"\"\n",
    "        choices_text = \"\\n\".join(f\"{chr(65 + i)}. {choice}\" for i, choice in enumerate(choices))\n",
    "        \n",
    "        prompt = f\"\"\"Solve this mathematics question step by step and you MUST end with a clear answer selection.\n",
    "\n",
    "    QUESTION:\n",
    "    {question}\n",
    "\n",
    "    CHOICES:\n",
    "    {choices_text}\n",
    "\n",
    "    REQUIREMENTS:\n",
    "    1. Analyze the question carefully\n",
    "    2. Show ALL mathematical steps clearly\n",
    "    3. Calculate values precisely\n",
    "    4. Evaluate each option systematically\n",
    "    5. You MUST end with EXACTLY ONE of these phrases:\n",
    "    - \"FINAL ANSWER: A\" \n",
    "    - \"FINAL ANSWER: B\"\n",
    "    - \"FINAL ANSWER: C\"\n",
    "    - \"FINAL ANSWER: D\"\n",
    "\n",
    "    Your complete solution:\"\"\"\n",
    "        return prompt\n",
    "\n",
    "    def get_gpt4_response(self, prompt: str, question_num: int) -> Tuple[str, float]:\n",
    "        \"\"\"Get response from Azure GPT-4\"\"\"\n",
    "        print(f\"\\n🤖 GPT-4 [Question {question_num}]\")\n",
    "        start_time = time.time()\n",
    "        try:\n",
    "            response = self.azure_client.chat.completions.create(\n",
    "                model=self.deployment_name,\n",
    "                messages=[{\"role\": \"user\", \"content\": prompt}],\n",
    "                temperature=0,\n",
    "                max_tokens=2000\n",
    "            )\n",
    "            response_text = response.choices[0].message.content\n",
    "            time_taken = time.time() - start_time\n",
    "            print(f\"⏱️ Time: {time_taken:.2f}s\")\n",
    "            return response_text, time_taken\n",
    "        except Exception as e:\n",
    "            print(f\"❌ GPT-4 Error: {e}\")\n",
    "            return \"\", 0\n",
    "\n",
    "    def get_tinyllama_response(self, prompt: str, question_num: int) -> Tuple[str, float]:\n",
    "        \"\"\"Optimized TinyLlama response generation\"\"\"\n",
    "        print(f\"\\n🦙 TinyLlama [Question {question_num}]\")\n",
    "        start_time = time.time()\n",
    "        try:\n",
    "            response = ollama.generate(\n",
    "                model='tinyllama',\n",
    "                prompt=prompt,\n",
    "                options={\n",
    "                    'num_predict': 1000,  # Reduced from 2000\n",
    "                    'top_k': 20,          # Reduced from 40\n",
    "                    'top_p': 0.9,         # Slightly more focused sampling\n",
    "                    'repeat_penalty': 1.1, # Prevent repetition\n",
    "                    'temperature': 0.7,    # Add if supported in your Ollama version\n",
    "                    'stop': ['Question:', 'QUESTION:', '\\n\\n']  # Stop tokens to prevent rambling\n",
    "                }\n",
    "            )\n",
    "            response_text = response['response']\n",
    "            time_taken = time.time() - start_time\n",
    "            print(f\"⏱️ Time: {time_taken:.2f}s\")\n",
    "            return response_text, time_taken\n",
    "        except Exception as e:\n",
    "            print(f\"❌ TinyLlama Error: {str(e)}\")\n",
    "            return \"\", 0\n",
    "\n",
    "    def evaluate_mathematical_reasoning(self, response: str) -> float:\n",
    "        \"\"\"Enhanced evaluation of mathematical reasoning quality\"\"\"\n",
    "        score = 0.0\n",
    "        \n",
    "        # Check for sophisticated mathematical expressions\n",
    "        math_patterns = {\n",
    "            'complex_equations': r'[a-z\\d]+\\s*=\\s*[a-z\\d\\s\\+\\-\\*/\\(\\)]+',\n",
    "            'advanced_operations': r'(?:sqrt|log|exp|sin|cos|tan)',\n",
    "            'fractions': r'\\d+/\\d+',\n",
    "            'exponents': r'\\d+\\^\\d+|\\d+\\*\\*\\d+',\n",
    "            'inequalities': r'[<>≤≥]',\n",
    "            'multi_step_calc': r'\\d+\\s*[\\+\\-\\*/]\\s*\\d+\\s*=\\s*\\d+\\s*[\\+\\-\\*/]\\s*\\d+'\n",
    "        }\n",
    "        \n",
    "        # Weight patterns differently\n",
    "        pattern_weights = {\n",
    "            'complex_equations': 0.3,\n",
    "            'advanced_operations': 0.2,\n",
    "            'fractions': 0.15,\n",
    "            'exponents': 0.15,\n",
    "            'inequalities': 0.1,\n",
    "            'multi_step_calc': 0.3\n",
    "        }\n",
    "        \n",
    "        for pattern_name, pattern in math_patterns.items():\n",
    "            matches = len(re.findall(pattern, response))\n",
    "            score += min(pattern_weights[pattern_name], matches * pattern_weights[pattern_name] / 2)\n",
    "        \n",
    "        # Check for mathematical vocabulary\n",
    "        advanced_math_terms = [\n",
    "            'theorem', 'proof', 'derivative', 'integral', 'function',\n",
    "            'coefficient', 'polynomial', 'equation', 'algorithm', 'formula',\n",
    "            'solve', 'calculate', 'simplify', 'factor', 'distribute'\n",
    "        ]\n",
    "        \n",
    "        term_count = sum(1 for term in advanced_math_terms if term in response.lower())\n",
    "        score += min(0.5, term_count * 0.1)\n",
    "        \n",
    "        return min(1.0, score)\n",
    "\n",
    "    def evaluate_solution_completeness(self, response: str) -> float:\n",
    "        \"\"\"Enhanced evaluation of solution completeness\"\"\"\n",
    "        score = 0.0\n",
    "        \n",
    "        # Check for comprehensive solution components\n",
    "        components = {\n",
    "            'problem_analysis': r'(?:given|we need to find|problem requires|let\\'s analyze)',\n",
    "            'strategy_explanation': r'(?:approach|strategy|method|we can solve|let\\'s solve)',\n",
    "            'detailed_steps': r'(?:step [1-9]|first|second|third|finally)',\n",
    "            'calculations': r'\\d+\\s*[\\+\\-\\*/]\\s*\\d+\\s*=',\n",
    "            'verification': r'(?:verify|check|confirm|therefore)',\n",
    "            'options_analysis': r'(?:option [ABCD]|analyzing options|compare choices)',\n",
    "            'final_conclusion': r'(?:final answer|conclusion|therefore.*answer)'\n",
    "        }\n",
    "        \n",
    "        component_weights = {\n",
    "            'problem_analysis': 0.15,\n",
    "            'strategy_explanation': 0.15,\n",
    "            'detailed_steps': 0.2,\n",
    "            'calculations': 0.2,\n",
    "            'verification': 0.1,\n",
    "            'options_analysis': 0.1,\n",
    "            'final_conclusion': 0.1\n",
    "        }\n",
    "        \n",
    "        for component, pattern in components.items():\n",
    "            matches = len(re.findall(pattern, response.lower()))\n",
    "            score += min(component_weights[component], matches * component_weights[component] / 2)\n",
    "        \n",
    "        # Penalize very short responses\n",
    "        if len(response.split()) < 50:\n",
    "            score *= 0.5\n",
    "        \n",
    "        return min(1.0, score)\n",
    "\n",
    "    def evaluate_explanation_quality(self, response: str) -> float:\n",
    "        \"\"\"Enhanced evaluation of explanation quality\"\"\"\n",
    "        score = 0.0\n",
    "        \n",
    "        # Check for sophisticated explanation elements\n",
    "        explanation_elements = {\n",
    "            'logical_reasoning': r'(?:because|since|as|therefore|thus|hence)',\n",
    "            'clarity_markers': r'(?:note that|observe|consider|let\\'s|we can)',\n",
    "            'comparative_analysis': r'(?:comparing|in contrast|while|whereas|on the other hand)',\n",
    "            'methodical_approach': r'(?:following|using|applying|based on|according to)',\n",
    "            'critical_thinking': r'(?:however|although|despite|nonetheless|furthermore)',\n",
    "            'option_evaluation': r'(?:option [ABCD]|choice [ABCD]|analyzing.*options)',\n",
    "            'conclusive_statement': r'(?:final answer|in conclusion|therefore.*answer)'\n",
    "        }\n",
    "        \n",
    "        element_weights = {\n",
    "            'logical_reasoning': 0.2,\n",
    "            'clarity_markers': 0.15,\n",
    "            'comparative_analysis': 0.15,\n",
    "            'methodical_approach': 0.15,\n",
    "            'critical_thinking': 0.15,\n",
    "            'option_evaluation': 0.1,\n",
    "            'conclusive_statement': 0.1\n",
    "        }\n",
    "        \n",
    "        for element, pattern in explanation_elements.items():\n",
    "            matches = len(re.findall(pattern, response.lower()))\n",
    "            score += min(element_weights[element], matches * element_weights[element] / 2)\n",
    "        \n",
    "        # Bonus for well-structured paragraphs\n",
    "        paragraphs = response.split('\\n\\n')\n",
    "        if len(paragraphs) >= 3:\n",
    "            score += 0.1\n",
    "            \n",
    "        return min(1.0, score)\n",
    "\n",
    "    def evaluate_coherence(self, response: str) -> float:\n",
    "        \"\"\"Enhanced evaluation of response coherence\"\"\"\n",
    "        if not response:\n",
    "            return 0.0\n",
    "            \n",
    "        score = 0.0\n",
    "        \n",
    "        # Check for sophisticated discourse markers\n",
    "        discourse_markers = {\n",
    "            'sequence': r'(?:first|second|third|finally|then|next|lastly)',\n",
    "            'causation': r'(?:therefore|thus|hence|consequently|because|since)',\n",
    "            'contrast': r'(?:however|although|despite|nonetheless|while)',\n",
    "            'addition': r'(?:furthermore|moreover|additionally|in addition)',\n",
    "            'exemplification': r'(?:for example|for instance|such as|specifically)',\n",
    "            'conclusion': r'(?:in conclusion|to sum up|finally|therefore)'\n",
    "        }\n",
    "        \n",
    "        marker_weights = {\n",
    "            'sequence': 0.2,\n",
    "            'causation': 0.2,\n",
    "            'contrast': 0.15,\n",
    "            'addition': 0.15,\n",
    "            'exemplification': 0.15,\n",
    "            'conclusion': 0.15\n",
    "        }\n",
    "        \n",
    "        for marker_type, pattern in discourse_markers.items():\n",
    "            matches = len(re.findall(pattern, response.lower()))\n",
    "            score += min(marker_weights[marker_type], matches * marker_weights[marker_type] / 2)\n",
    "        \n",
    "        # Check for mathematical coherence\n",
    "        if re.search(r'\\d+\\s*=.*\\d+.*=.*\\d+', response):\n",
    "            score += 0.2\n",
    "            \n",
    "        # Check for logical flow in option analysis\n",
    "        if all(re.search(f'option {letter}', response.lower()) for letter in 'ABCD'):\n",
    "            score += 0.2\n",
    "            \n",
    "        return min(1.0, score)\n",
    "\n",
    "    def calculate_time_efficiency_score(self, time_taken: float) -> float:\n",
    "        \"\"\"Enhanced time efficiency scoring\"\"\"\n",
    "        # Adjusted optimal time ranges\n",
    "        if time_taken <= 3:\n",
    "            return 1.0\n",
    "        elif time_taken <= 10:\n",
    "            return 0.9\n",
    "        elif time_taken <= 20:\n",
    "            return 0.7\n",
    "        elif time_taken <= 30:\n",
    "            return 0.5\n",
    "        elif time_taken <= 45:\n",
    "            return 0.3\n",
    "        else:\n",
    "            return 0.1\n",
    "\n",
    "    def extract_answer(self, response: str) -> str:\n",
    "        \"\"\"Improved answer extraction with multiple fallback methods\"\"\"\n",
    "        if not response:\n",
    "            return \"\"\n",
    "        \n",
    "        # First priority: Look for the exact format\n",
    "        final_answer_match = re.search(r'FINAL ANSWER:\\s*([ABCD])', response, re.IGNORECASE)\n",
    "        if final_answer_match:\n",
    "            return final_answer_match.group(1).upper()\n",
    "        \n",
    "        # Second priority: Look for \"The answer is X\" pattern\n",
    "        answer_is_match = re.search(r'(?:the\\s+)?answer\\s+is\\s+([ABCD])', response, re.IGNORECASE)\n",
    "        if answer_is_match:\n",
    "            return answer_is_match.group(1).upper()\n",
    "        \n",
    "        # Third priority: Look for option analysis conclusions\n",
    "        conclusion_patterns = [\n",
    "            r'(?:therefore|thus|hence|so),?\\s+(?:the\\s+)?(?:answer\\s+)?(?:is|must\\s+be|should\\s+be|would\\s+be)?\\s*([ABCD])',\n",
    "            r'option\\s+([ABCD])(?:\\s+is|\\s+appears\\s+to\\s+be|\\s+seems\\s+to\\s+be)?\\s+(?:the\\s+)?correct',\n",
    "            r'([ABCD])(?:\\s+is|\\s+appears\\s+to\\s+be|\\s+seems\\s+to\\s+be)\\s+(?:the\\s+)?correct',\n",
    "            r'(?:selecting|choosing|we\\s+choose|we\\s+select)\\s+(?:option\\s+)?([ABCD])',\n",
    "            r'(?:final|correct|right)\\s+(?:answer|option|choice)\\s+(?:is|:)\\s+([ABCD])'\n",
    "        ]\n",
    "        \n",
    "        for pattern in conclusion_patterns:\n",
    "            match = re.search(pattern, response, re.IGNORECASE)\n",
    "            if match:\n",
    "                return match.group(1).upper()\n",
    "        \n",
    "        # Fourth priority: Look for emphasized single letter\n",
    "        emphasized_letter = re.search(r'(?:^|\\s|[^\\w])([ABCD])(?:\\s|$|[^\\w])', response)\n",
    "        if emphasized_letter:\n",
    "            return emphasized_letter.group(1).upper()\n",
    "        \n",
    "        # If all else fails, analyze which option is discussed most positively\n",
    "        options_analysis = {\n",
    "            'A': 0, 'B': 0, 'C': 0, 'D': 0\n",
    "        }\n",
    "        \n",
    "        positive_patterns = [\n",
    "            r'correct', r'right', r'true', r'valid', r'best',\n",
    "            r'this works', r'this is', r'matches', r'agrees'\n",
    "        ]\n",
    "        \n",
    "        for option in options_analysis:\n",
    "            context_pattern = f\"option {option}.*?(?=option|$)\"\n",
    "            contexts = re.finditer(context_pattern, response, re.IGNORECASE | re.DOTALL)\n",
    "            \n",
    "            for context in contexts:\n",
    "                context_text = context.group(0)\n",
    "                for positive_pattern in positive_patterns:\n",
    "                    if re.search(positive_pattern, context_text, re.IGNORECASE):\n",
    "                        options_analysis[option] += 1\n",
    "        \n",
    "        if any(options_analysis.values()):\n",
    "            return max(options_analysis.items(), key=lambda x: x[1])[0]\n",
    "        \n",
    "        return \"A\"  # Default fallback\n",
    "\n",
    "    def evaluate_response(self, response: str, correct_answer: str, time_taken: float) -> Dict:\n",
    "        \"\"\"Enhanced response evaluation with adjusted weights\"\"\"\n",
    "        if not response:\n",
    "            return {\n",
    "                'correctness': 0,\n",
    "                'mathematical_reasoning': 0,\n",
    "                'solution_completeness': 0,\n",
    "                'explanation_quality': 0,\n",
    "                'coherence': 0,\n",
    "                'time_efficiency': 0\n",
    "            }\n",
    "\n",
    "        extracted_answer = self.extract_answer(response)\n",
    "        \n",
    "        # Enhanced scoring system\n",
    "        evaluation = {\n",
    "            'correctness': 1.0 if extracted_answer == correct_answer else 0.0,\n",
    "            'mathematical_reasoning': self.evaluate_mathematical_reasoning(response),\n",
    "            'solution_completeness': self.evaluate_solution_completeness(response),\n",
    "            'explanation_quality': self.evaluate_explanation_quality(response),\n",
    "            'coherence': self.evaluate_coherence(response),\n",
    "            'time_efficiency': self.calculate_time_efficiency_score(time_taken)\n",
    "        }\n",
    "        \n",
    "        return evaluation\n",
    "\n",
    "    def calculate_final_score(self, eval_dict: Dict) -> float:\n",
    "        \"\"\"Balanced scoring with emphasis on correctness\"\"\"\n",
    "        weights = {\n",
    "            'correctness': 0.40,        # Increased\n",
    "            'mathematical_reasoning': 0.25,\n",
    "            'solution_completeness': 0.15,\n",
    "            'explanation_quality': 0.10,\n",
    "            'coherence': 0.05,\n",
    "            'time_efficiency': 0.05\n",
    "        }\n",
    "        \n",
    "        base_score = sum(eval_dict[key] * weights[key] for key in eval_dict)\n",
    "        \n",
    "        # Bonus for correct answers with good reasoning\n",
    "        if eval_dict['correctness'] == 1.0 and eval_dict['mathematical_reasoning'] > 0.7:\n",
    "            base_score *= 1.1\n",
    "        \n",
    "        return min(1.0, base_score)\n",
    "\n",
    "    def evaluate_questions(self, input_csv: str, output_csv: str):\n",
    "        \"\"\"Main evaluation function - 15 questions per subject\"\"\"\n",
    "        print(\"\\n📚 Loading questions from CSV...\")\n",
    "        df = pd.read_csv(input_csv)\n",
    "        \n",
    "        # Sample 15 questions from each subject\n",
    "        sampled_df = df.groupby('Subject', group_keys=False).apply(lambda x: x.sample(n=min(len(x), 15)))\n",
    "        print(f\"✅ Loaded {len(sampled_df)} questions for evaluation\")\n",
    "        print(\"\\nDistribution of questions by subject:\")\n",
    "        print(sampled_df['Subject'].value_counts())\n",
    "        \n",
    "        results = []\n",
    "        start_time = time.time()\n",
    "        total_questions = len(sampled_df)\n",
    "        \n",
    "        for idx, row in sampled_df.iterrows():\n",
    "            question_num = idx + 1\n",
    "            print(f\"\\n{'='*60}\")\n",
    "            print(f\"📝 Question {len(results)+1}/{total_questions}\")\n",
    "            print(f\"Subject: {row['Subject']}\")\n",
    "            print(f\"Question: {row['Question']}\")\n",
    "            \n",
    "            # Create prompt\n",
    "            prompt = self.create_prompt(row['Question'], eval(row['Choices']))\n",
    "            \n",
    "            # Get model responses\n",
    "            gpt4_response, gpt4_time = self.get_gpt4_response(prompt, len(results)+1)\n",
    "            tinyllama_response, tinyllama_time = self.get_tinyllama_response(prompt, len(results)+1)\n",
    "            \n",
    "            # Evaluate responses\n",
    "            print(\"\\n📊 Evaluating responses...\")\n",
    "            gpt4_eval = self.evaluate_response(gpt4_response, row['Answer'], gpt4_time)\n",
    "            tinyllama_eval = self.evaluate_response(tinyllama_response, row['Answer'], tinyllama_time)\n",
    "            \n",
    "            # Calculate scores\n",
    "            gpt4_score = self.calculate_final_score(gpt4_eval)\n",
    "            tinyllama_score = self.calculate_final_score(tinyllama_eval)\n",
    "            \n",
    "            # Print detailed scores\n",
    "            print(f\"\\nDetailed Scores for Question {len(results)+1}:\")\n",
    "            print(\"\\nGPT-4:\")\n",
    "            for metric, score in gpt4_eval.items():\n",
    "                print(f\"{metric}: {score:.2f}\")\n",
    "            print(f\"Final Score: {gpt4_score:.2f}\")\n",
    "            \n",
    "            print(\"\\nTinyLlama:\")\n",
    "            for metric, score in tinyllama_eval.items():\n",
    "                print(f\"{metric}: {score:.2f}\")\n",
    "            print(f\"Final Score: {tinyllama_score:.2f}\")\n",
    "            \n",
    "            # Store results\n",
    "            result = {\n",
    "                'Question_Number': len(results)+1,\n",
    "                'Question': row['Question'],\n",
    "                'Subject': row['Subject'],\n",
    "                'Correct_Answer': row['Answer'],\n",
    "                'GPT4_Response': gpt4_response,\n",
    "                'GPT4_Time': gpt4_time,\n",
    "                **{f'GPT4_{k}': v for k, v in gpt4_eval.items()},\n",
    "                'GPT4_Final_Score': gpt4_score,\n",
    "                'TinyLlama_Response': tinyllama_response,\n",
    "                'TinyLlama_Time': tinyllama_time,\n",
    "                **{f'TinyLlama_{k}': v for k, v in tinyllama_eval.items()},\n",
    "                'TinyLlama_Final_Score': tinyllama_score\n",
    "            }\n",
    "            results.append(result)\n",
    "            \n",
    "            # Save intermediate results every 5 questions\n",
    "            if len(results) % 5 == 0:\n",
    "                print(f\"\\n💾 Saving intermediate results...\")\n",
    "                pd.DataFrame(results).to_csv(output_csv, index=False)\n",
    "                \n",
    "            # Progress indicator\n",
    "            print(f\"\\nProgress: {len(results)}/{total_questions} questions completed ({(len(results)/total_questions)*100:.1f}%)\")\n",
    "        \n",
    "        # Save final results\n",
    "        results_df = pd.DataFrame(results)\n",
    "        results_df.to_csv(output_csv, index=False)\n",
    "        \n",
    "        # Calculate and display final statistics\n",
    "        total_time = time.time() - start_time\n",
    "        print(\"\\n📊 Final Statistics:\")\n",
    "        print(f\"Total questions processed: {len(results)}\")\n",
    "        print(f\"Total time taken: {total_time/60:.2f} minutes\")\n",
    "        print(f\"Average time per question: {total_time/len(results):.2f} seconds\")\n",
    "        \n",
    "        # Print subject-wise performance\n",
    "        print(\"\\n📊 Subject-wise Performance:\")\n",
    "        for subject in results_df['Subject'].unique():\n",
    "            subject_df = results_df[results_df['Subject'] == subject]\n",
    "            print(f\"\\n{subject}:\")\n",
    "            print(f\"GPT-4 Average Score: {subject_df['GPT4_Final_Score'].mean():.2f}\")\n",
    "            print(f\"TinyLlama Average Score: {subject_df['TinyLlama_Final_Score'].mean():.2f}\")\n",
    "        \n",
    "        print(\"\\nOverall Average Scores by Metric:\")\n",
    "        metrics = ['correctness', 'mathematical_reasoning', 'solution_completeness', \n",
    "                'explanation_quality', 'coherence', 'time_efficiency']\n",
    "        \n",
    "        print(\"\\nGPT-4:\")\n",
    "        for metric in metrics:\n",
    "            avg_score = results_df[f'GPT4_{metric}'].mean()\n",
    "            print(f\"{metric}: {avg_score:.2f}\")\n",
    "            \n",
    "        print(\"\\nTinyLlama:\")\n",
    "        for metric in metrics:\n",
    "            avg_score = results_df[f'TinyLlama_{metric}'].mean()\n",
    "            print(f\"{metric}: {avg_score:.2f}\")\n",
    "            \n",
    "        print(f\"\\nFinal Overall Average Scores:\")\n",
    "        print(f\"GPT-4: {results_df['GPT4_Final_Score'].mean():.2f}\")\n",
    "        print(f\"TinyLlama: {results_df['TinyLlama_Final_Score'].mean():.2f}\")\n",
    "        \n",
    "        # Generate performance comparison visualizations\n",
    "        self.generate_performance_visualizations(results_df, output_csv.replace('.csv', '_analysis.html'))\n",
    "        \n",
    "        print(f\"\\n✅ Evaluation completed - Results saved to {output_csv}\")\n",
    "\n",
    "    def generate_performance_visualizations(self, results_df: pd.DataFrame, output_file: str):\n",
    "        \"\"\"Generate detailed performance comparison visualizations\"\"\"\n",
    "        import matplotlib.pyplot as plt\n",
    "        import seaborn as sns\n",
    "        \n",
    "        # Create a detailed HTML report\n",
    "        html_content = ['<html><head><style>',\n",
    "                       'body { font-family: Arial, sans-serif; margin: 20px; }',\n",
    "                       'table { border-collapse: collapse; width: 100%; }',\n",
    "                       'th, td { border: 1px solid #ddd; padding: 8px; text-align: left; }',\n",
    "                       'th { background-color: #f2f2f2; }',\n",
    "                       '</style></head><body>']\n",
    "        \n",
    "        # Add summary statistics\n",
    "        html_content.append('<h2>Model Performance Comparison</h2>')\n",
    "        \n",
    "        # Create summary table\n",
    "        metrics = ['correctness', 'mathematical_reasoning', 'solution_completeness', \n",
    "                  'explanation_quality', 'coherence', 'time_efficiency']\n",
    "        \n",
    "        html_content.append('<table>')\n",
    "        html_content.append('<tr><th>Metric</th><th>GPT-4</th><th>TinyLlama</th><th>Difference</th></tr>')\n",
    "        \n",
    "        for metric in metrics:\n",
    "            gpt4_score = results_df[f'GPT4_{metric}'].mean()\n",
    "            tiny_score = results_df[f'TinyLlama_{metric}'].mean()\n",
    "            diff = gpt4_score - tiny_score\n",
    "            \n",
    "            html_content.append(f'<tr><td>{metric.replace(\"_\", \" \").title()}</td>'\n",
    "                              f'<td>{gpt4_score:.3f}</td>'\n",
    "                              f'<td>{tiny_score:.3f}</td>'\n",
    "                              f'<td>{diff:+.3f}</td></tr>')\n",
    "        \n",
    "        # Add final scores\n",
    "        gpt4_final = results_df['GPT4_Final_Score'].mean()\n",
    "        tiny_final = results_df['TinyLlama_Final_Score'].mean()\n",
    "        final_diff = gpt4_final - tiny_final\n",
    "        \n",
    "        html_content.append(f'<tr><th>Final Score</th>'\n",
    "                          f'<th>{gpt4_final:.3f}</th>'\n",
    "                          f'<th>{tiny_final:.3f}</th>'\n",
    "                          f'<th>{final_diff:+.3f}</th></tr>')\n",
    "        \n",
    "        html_content.append('</table>')\n",
    "        \n",
    "        # Save the report\n",
    "        with open(output_file, 'w') as f:\n",
    "            f.write('\\n'.join(html_content))\n",
    "        \n",
    "        print(f\"\\n📊 Performance analysis saved to {output_file}\")"
   ]
  },
  {
   "cell_type": "code",
   "execution_count": 31,
   "metadata": {},
   "outputs": [
    {
     "name": "stdout",
     "output_type": "stream",
     "text": [
      "🚀 Starting Enhanced Math Problem Evaluation System\n",
      "\n",
      "🔄 Initializing Model Evaluator...\n"
     ]
    },
    {
     "name": "stderr",
     "output_type": "stream",
     "text": [
      "2024-12-01 12:03:48,077 - INFO - HTTP Request: GET http://127.0.0.1:11434/api/tags \"HTTP/1.1 200 OK\"\n"
     ]
    },
    {
     "name": "stdout",
     "output_type": "stream",
     "text": [
      "✅ Azure OpenAI client initialized successfully\n",
      "✅ Ollama connection verified\n",
      "\n",
      "📚 Loading questions from CSV...\n",
      "✅ Loaded 60 questions for evaluation\n",
      "\n",
      "Distribution of questions by subject:\n",
      "Subject\n",
      "Abstract Algebra           15\n",
      "College Mathematics        15\n",
      "Elementary Mathematics     15\n",
      "High School Mathematics    15\n",
      "Name: count, dtype: int64\n",
      "\n",
      "============================================================\n",
      "📝 Question 1/60\n",
      "Subject: Abstract Algebra\n",
      "Question: Statement 1 | Every integral domain has a field of quotients. Statement 2 | A polynomial of degree n over a ring can have at most n zeros counting multiplicity.\n",
      "\n",
      "🤖 GPT-4 [Question 1]\n"
     ]
    },
    {
     "name": "stderr",
     "output_type": "stream",
     "text": [
      "2024-12-01 12:03:55,054 - INFO - HTTP Request: POST https://access-01.openai.azure.com/openai/deployments/gpt-4o/chat/completions?api-version=2024-08-01-preview \"HTTP/1.1 200 OK\"\n"
     ]
    },
    {
     "name": "stdout",
     "output_type": "stream",
     "text": [
      "⏱️ Time: 6.33s\n",
      "\n",
      "🦙 TinyLlama [Question 1]\n"
     ]
    },
    {
     "name": "stderr",
     "output_type": "stream",
     "text": [
      "2024-12-01 12:04:28,289 - INFO - HTTP Request: POST http://127.0.0.1:11434/api/generate \"HTTP/1.1 200 OK\"\n"
     ]
    },
    {
     "name": "stdout",
     "output_type": "stream",
     "text": [
      "⏱️ Time: 33.18s\n",
      "\n",
      "📊 Evaluating responses...\n",
      "\n",
      "Detailed Scores for Question 1:\n",
      "\n",
      "GPT-4:\n",
      "correctness: 1.00\n",
      "mathematical_reasoning: 0.40\n",
      "solution_completeness: 0.42\n",
      "explanation_quality: 0.65\n",
      "coherence: 0.68\n",
      "time_efficiency: 0.90\n",
      "Final Score: 0.71\n",
      "\n",
      "TinyLlama:\n",
      "correctness: 0.00\n",
      "mathematical_reasoning: 0.10\n",
      "solution_completeness: 0.00\n",
      "explanation_quality: 0.10\n",
      "coherence: 0.00\n",
      "time_efficiency: 0.30\n",
      "Final Score: 0.05\n",
      "\n",
      "Progress: 1/60 questions completed (1.7%)\n",
      "\n",
      "============================================================\n",
      "📝 Question 2/60\n",
      "Subject: Abstract Algebra\n",
      "Question: Find the order of the factor group (Z_4 x Z_12)/(<2> x <2>)\n",
      "\n",
      "🤖 GPT-4 [Question 2]\n"
     ]
    },
    {
     "name": "stderr",
     "output_type": "stream",
     "text": [
      "2024-12-01 12:04:36,051 - INFO - HTTP Request: POST https://access-01.openai.azure.com/openai/deployments/gpt-4o/chat/completions?api-version=2024-08-01-preview \"HTTP/1.1 200 OK\"\n"
     ]
    },
    {
     "name": "stdout",
     "output_type": "stream",
     "text": [
      "⏱️ Time: 7.71s\n",
      "\n",
      "🦙 TinyLlama [Question 2]\n"
     ]
    },
    {
     "name": "stderr",
     "output_type": "stream",
     "text": [
      "2024-12-01 12:04:47,797 - INFO - HTTP Request: POST http://127.0.0.1:11434/api/generate \"HTTP/1.1 200 OK\"\n"
     ]
    },
    {
     "name": "stdout",
     "output_type": "stream",
     "text": [
      "⏱️ Time: 11.75s\n",
      "\n",
      "📊 Evaluating responses...\n",
      "\n",
      "Detailed Scores for Question 2:\n",
      "\n",
      "GPT-4:\n",
      "correctness: 1.00\n",
      "mathematical_reasoning: 0.80\n",
      "solution_completeness: 0.45\n",
      "explanation_quality: 0.35\n",
      "coherence: 0.28\n",
      "time_efficiency: 0.90\n",
      "Final Score: 0.84\n",
      "\n",
      "TinyLlama:\n",
      "correctness: 0.00\n",
      "mathematical_reasoning: 0.00\n",
      "solution_completeness: 0.00\n",
      "explanation_quality: 0.00\n",
      "coherence: 0.00\n",
      "time_efficiency: 0.70\n",
      "Final Score: 0.03\n",
      "\n",
      "Progress: 2/60 questions completed (3.3%)\n",
      "\n",
      "============================================================\n",
      "📝 Question 3/60\n",
      "Subject: Abstract Algebra\n",
      "Question: Statement 1 | Every integral domain has a field of quotients. Statement 2 | A polynomial of degree n over a ring can have at most n zeros counting multiplicity.\n",
      "\n",
      "🤖 GPT-4 [Question 3]\n"
     ]
    },
    {
     "name": "stderr",
     "output_type": "stream",
     "text": [
      "2024-12-01 12:04:55,629 - INFO - HTTP Request: POST https://access-01.openai.azure.com/openai/deployments/gpt-4o/chat/completions?api-version=2024-08-01-preview \"HTTP/1.1 200 OK\"\n"
     ]
    },
    {
     "name": "stdout",
     "output_type": "stream",
     "text": [
      "⏱️ Time: 7.82s\n",
      "\n",
      "🦙 TinyLlama [Question 3]\n"
     ]
    },
    {
     "name": "stderr",
     "output_type": "stream",
     "text": [
      "2024-12-01 12:05:08,884 - INFO - HTTP Request: POST http://127.0.0.1:11434/api/generate \"HTTP/1.1 200 OK\"\n"
     ]
    },
    {
     "name": "stdout",
     "output_type": "stream",
     "text": [
      "⏱️ Time: 13.25s\n",
      "\n",
      "📊 Evaluating responses...\n",
      "\n",
      "Detailed Scores for Question 3:\n",
      "\n",
      "GPT-4:\n",
      "correctness: 1.00\n",
      "mathematical_reasoning: 0.62\n",
      "solution_completeness: 0.47\n",
      "explanation_quality: 0.57\n",
      "coherence: 0.60\n",
      "time_efficiency: 0.90\n",
      "Final Score: 0.76\n",
      "\n",
      "TinyLlama:\n",
      "correctness: 0.00\n",
      "mathematical_reasoning: 0.10\n",
      "solution_completeness: 0.00\n",
      "explanation_quality: 0.10\n",
      "coherence: 0.00\n",
      "time_efficiency: 0.70\n",
      "Final Score: 0.07\n",
      "\n",
      "Progress: 3/60 questions completed (5.0%)\n",
      "\n",
      "============================================================\n",
      "📝 Question 4/60\n",
      "Subject: Abstract Algebra\n",
      "Question: Statement 1 | The symmetric group S_3 is cyclic. Statement 2 | Every group is isomorphic to some group of permutations.\n",
      "\n",
      "🤖 GPT-4 [Question 4]\n"
     ]
    },
    {
     "name": "stderr",
     "output_type": "stream",
     "text": [
      "2024-12-01 12:05:15,759 - INFO - HTTP Request: POST https://access-01.openai.azure.com/openai/deployments/gpt-4o/chat/completions?api-version=2024-08-01-preview \"HTTP/1.1 200 OK\"\n"
     ]
    },
    {
     "name": "stdout",
     "output_type": "stream",
     "text": [
      "⏱️ Time: 6.88s\n",
      "\n",
      "🦙 TinyLlama [Question 4]\n"
     ]
    },
    {
     "name": "stderr",
     "output_type": "stream",
     "text": [
      "2024-12-01 12:05:25,698 - INFO - HTTP Request: POST http://127.0.0.1:11434/api/generate \"HTTP/1.1 200 OK\"\n"
     ]
    },
    {
     "name": "stdout",
     "output_type": "stream",
     "text": [
      "⏱️ Time: 9.93s\n",
      "\n",
      "📊 Evaluating responses...\n",
      "\n",
      "Detailed Scores for Question 4:\n",
      "\n",
      "GPT-4:\n",
      "correctness: 1.00\n",
      "mathematical_reasoning: 0.40\n",
      "solution_completeness: 0.20\n",
      "explanation_quality: 0.57\n",
      "coherence: 0.68\n",
      "time_efficiency: 0.90\n",
      "Final Score: 0.67\n",
      "\n",
      "TinyLlama:\n",
      "correctness: 0.00\n",
      "mathematical_reasoning: 0.00\n",
      "solution_completeness: 0.00\n",
      "explanation_quality: 0.00\n",
      "coherence: 0.00\n",
      "time_efficiency: 0.90\n",
      "Final Score: 0.05\n",
      "\n",
      "Progress: 4/60 questions completed (6.7%)\n",
      "\n",
      "============================================================\n",
      "📝 Question 5/60\n",
      "Subject: Abstract Algebra\n",
      "Question: Find the order of the factor group Z_6/<3>.\n",
      "\n",
      "🤖 GPT-4 [Question 5]\n"
     ]
    },
    {
     "name": "stderr",
     "output_type": "stream",
     "text": [
      "2024-12-01 12:05:34,534 - INFO - HTTP Request: POST https://access-01.openai.azure.com/openai/deployments/gpt-4o/chat/completions?api-version=2024-08-01-preview \"HTTP/1.1 200 OK\"\n"
     ]
    },
    {
     "name": "stdout",
     "output_type": "stream",
     "text": [
      "⏱️ Time: 8.84s\n",
      "\n",
      "🦙 TinyLlama [Question 5]\n"
     ]
    },
    {
     "name": "stderr",
     "output_type": "stream",
     "text": [
      "2024-12-01 12:05:44,070 - INFO - HTTP Request: POST http://127.0.0.1:11434/api/generate \"HTTP/1.1 200 OK\"\n"
     ]
    },
    {
     "name": "stdout",
     "output_type": "stream",
     "text": [
      "⏱️ Time: 9.53s\n",
      "\n",
      "📊 Evaluating responses...\n",
      "\n",
      "Detailed Scores for Question 5:\n",
      "\n",
      "GPT-4:\n",
      "correctness: 1.00\n",
      "mathematical_reasoning: 0.80\n",
      "solution_completeness: 0.38\n",
      "explanation_quality: 0.35\n",
      "coherence: 0.20\n",
      "time_efficiency: 0.90\n",
      "Final Score: 0.82\n",
      "\n",
      "TinyLlama:\n",
      "correctness: 0.00\n",
      "mathematical_reasoning: 0.00\n",
      "solution_completeness: 0.00\n",
      "explanation_quality: 0.00\n",
      "coherence: 0.00\n",
      "time_efficiency: 0.90\n",
      "Final Score: 0.05\n",
      "\n",
      "💾 Saving intermediate results...\n",
      "\n",
      "Progress: 5/60 questions completed (8.3%)\n",
      "\n",
      "============================================================\n",
      "📝 Question 6/60\n",
      "Subject: Abstract Algebra\n",
      "Question: Find the maximum possible order for an element of S_n for n = 7.\n",
      "\n",
      "🤖 GPT-4 [Question 6]\n"
     ]
    },
    {
     "name": "stderr",
     "output_type": "stream",
     "text": [
      "2024-12-01 12:05:49,278 - INFO - HTTP Request: POST https://access-01.openai.azure.com/openai/deployments/gpt-4o/chat/completions?api-version=2024-08-01-preview \"HTTP/1.1 200 OK\"\n"
     ]
    },
    {
     "name": "stdout",
     "output_type": "stream",
     "text": [
      "⏱️ Time: 4.99s\n",
      "\n",
      "🦙 TinyLlama [Question 6]\n"
     ]
    },
    {
     "name": "stderr",
     "output_type": "stream",
     "text": [
      "2024-12-01 12:06:00,685 - INFO - HTTP Request: POST http://127.0.0.1:11434/api/generate \"HTTP/1.1 200 OK\"\n"
     ]
    },
    {
     "name": "stdout",
     "output_type": "stream",
     "text": [
      "⏱️ Time: 11.41s\n",
      "\n",
      "📊 Evaluating responses...\n",
      "\n",
      "Detailed Scores for Question 6:\n",
      "\n",
      "GPT-4:\n",
      "correctness: 1.00\n",
      "mathematical_reasoning: 0.30\n",
      "solution_completeness: 0.28\n",
      "explanation_quality: 0.43\n",
      "coherence: 0.28\n",
      "time_efficiency: 0.90\n",
      "Final Score: 0.62\n",
      "\n",
      "TinyLlama:\n",
      "correctness: 0.00\n",
      "mathematical_reasoning: 0.00\n",
      "solution_completeness: 0.00\n",
      "explanation_quality: 0.00\n",
      "coherence: 0.00\n",
      "time_efficiency: 0.70\n",
      "Final Score: 0.03\n",
      "\n",
      "Progress: 6/60 questions completed (10.0%)\n",
      "\n",
      "============================================================\n",
      "📝 Question 7/60\n",
      "Subject: Abstract Algebra\n",
      "Question: Statement 1 | A permutation that is a product of m even permutations and n odd permutations is an even permutation if and only if n is even. Statement 2 | Every group is isomorphic to a group of permutations.\n",
      "\n",
      "🤖 GPT-4 [Question 7]\n"
     ]
    },
    {
     "name": "stderr",
     "output_type": "stream",
     "text": [
      "2024-12-01 12:06:06,268 - INFO - HTTP Request: POST https://access-01.openai.azure.com/openai/deployments/gpt-4o/chat/completions?api-version=2024-08-01-preview \"HTTP/1.1 200 OK\"\n"
     ]
    },
    {
     "name": "stdout",
     "output_type": "stream",
     "text": [
      "⏱️ Time: 5.58s\n",
      "\n",
      "🦙 TinyLlama [Question 7]\n"
     ]
    },
    {
     "name": "stderr",
     "output_type": "stream",
     "text": [
      "2024-12-01 12:06:19,787 - INFO - HTTP Request: POST http://127.0.0.1:11434/api/generate \"HTTP/1.1 200 OK\"\n"
     ]
    },
    {
     "name": "stdout",
     "output_type": "stream",
     "text": [
      "⏱️ Time: 13.52s\n",
      "\n",
      "📊 Evaluating responses...\n",
      "\n",
      "Detailed Scores for Question 7:\n",
      "\n",
      "GPT-4:\n",
      "correctness: 1.00\n",
      "mathematical_reasoning: 0.40\n",
      "solution_completeness: 0.43\n",
      "explanation_quality: 0.43\n",
      "coherence: 0.55\n",
      "time_efficiency: 0.90\n",
      "Final Score: 0.68\n",
      "\n",
      "TinyLlama:\n",
      "correctness: 1.00\n",
      "mathematical_reasoning: 0.00\n",
      "solution_completeness: 0.00\n",
      "explanation_quality: 0.00\n",
      "coherence: 0.00\n",
      "time_efficiency: 0.70\n",
      "Final Score: 0.43\n",
      "\n",
      "Progress: 7/60 questions completed (11.7%)\n",
      "\n",
      "============================================================\n",
      "📝 Question 8/60\n",
      "Subject: Abstract Algebra\n",
      "Question: Statement 1 | If a group has an element of order 10, then the number of elements of order 10 is divisible by 4. Statement 2 | If m and n are positive integers and phi is the Euler phi function, then phi(mn) = phi(m)phi(n).\n",
      "\n",
      "🤖 GPT-4 [Question 8]\n"
     ]
    },
    {
     "name": "stderr",
     "output_type": "stream",
     "text": [
      "2024-12-01 12:06:29,825 - INFO - HTTP Request: POST https://access-01.openai.azure.com/openai/deployments/gpt-4o/chat/completions?api-version=2024-08-01-preview \"HTTP/1.1 200 OK\"\n"
     ]
    },
    {
     "name": "stdout",
     "output_type": "stream",
     "text": [
      "⏱️ Time: 10.04s\n",
      "\n",
      "🦙 TinyLlama [Question 8]\n"
     ]
    },
    {
     "name": "stderr",
     "output_type": "stream",
     "text": [
      "2024-12-01 12:06:44,016 - INFO - HTTP Request: POST http://127.0.0.1:11434/api/generate \"HTTP/1.1 200 OK\"\n"
     ]
    },
    {
     "name": "stdout",
     "output_type": "stream",
     "text": [
      "⏱️ Time: 14.19s\n",
      "\n",
      "📊 Evaluating responses...\n",
      "\n",
      "Detailed Scores for Question 8:\n",
      "\n",
      "GPT-4:\n",
      "correctness: 0.00\n",
      "mathematical_reasoning: 1.00\n",
      "solution_completeness: 0.35\n",
      "explanation_quality: 0.65\n",
      "coherence: 0.70\n",
      "time_efficiency: 0.70\n",
      "Final Score: 0.44\n",
      "\n",
      "TinyLlama:\n",
      "correctness: 0.00\n",
      "mathematical_reasoning: 0.00\n",
      "solution_completeness: 0.00\n",
      "explanation_quality: 0.10\n",
      "coherence: 0.10\n",
      "time_efficiency: 0.70\n",
      "Final Score: 0.05\n",
      "\n",
      "Progress: 8/60 questions completed (13.3%)\n",
      "\n",
      "============================================================\n",
      "📝 Question 9/60\n",
      "Subject: Abstract Algebra\n",
      "Question: Statement 1 | Every integral domain has a field of quotients. Statement 2 | A polynomial of degree n over a ring can have at most n zeros counting multiplicity.\n",
      "\n",
      "🤖 GPT-4 [Question 9]\n"
     ]
    },
    {
     "name": "stderr",
     "output_type": "stream",
     "text": [
      "2024-12-01 12:06:50,909 - INFO - HTTP Request: POST https://access-01.openai.azure.com/openai/deployments/gpt-4o/chat/completions?api-version=2024-08-01-preview \"HTTP/1.1 200 OK\"\n"
     ]
    },
    {
     "name": "stdout",
     "output_type": "stream",
     "text": [
      "⏱️ Time: 6.89s\n",
      "\n",
      "🦙 TinyLlama [Question 9]\n"
     ]
    },
    {
     "name": "stderr",
     "output_type": "stream",
     "text": [
      "2024-12-01 12:07:09,025 - INFO - HTTP Request: POST http://127.0.0.1:11434/api/generate \"HTTP/1.1 200 OK\"\n"
     ]
    },
    {
     "name": "stdout",
     "output_type": "stream",
     "text": [
      "⏱️ Time: 18.12s\n",
      "\n",
      "📊 Evaluating responses...\n",
      "\n",
      "Detailed Scores for Question 9:\n",
      "\n",
      "GPT-4:\n",
      "correctness: 1.00\n",
      "mathematical_reasoning: 0.40\n",
      "solution_completeness: 0.38\n",
      "explanation_quality: 0.65\n",
      "coherence: 0.32\n",
      "time_efficiency: 0.90\n",
      "Final Score: 0.68\n",
      "\n",
      "TinyLlama:\n",
      "correctness: 0.00\n",
      "mathematical_reasoning: 0.10\n",
      "solution_completeness: 0.00\n",
      "explanation_quality: 0.10\n",
      "coherence: 0.00\n",
      "time_efficiency: 0.70\n",
      "Final Score: 0.07\n",
      "\n",
      "Progress: 9/60 questions completed (15.0%)\n",
      "\n",
      "============================================================\n",
      "📝 Question 10/60\n",
      "Subject: Abstract Algebra\n",
      "Question: Statement 1 | If a group has an element of order 10, then the number of elements of order 10 is divisible by 4. Statement 2 | If m and n are positive integers and phi is the Euler phi function, then phi(mn) = phi(m)phi(n).\n",
      "\n",
      "🤖 GPT-4 [Question 10]\n"
     ]
    },
    {
     "name": "stderr",
     "output_type": "stream",
     "text": [
      "2024-12-01 12:07:16,563 - INFO - HTTP Request: POST https://access-01.openai.azure.com/openai/deployments/gpt-4o/chat/completions?api-version=2024-08-01-preview \"HTTP/1.1 200 OK\"\n"
     ]
    },
    {
     "name": "stdout",
     "output_type": "stream",
     "text": [
      "⏱️ Time: 7.54s\n",
      "\n",
      "🦙 TinyLlama [Question 10]\n"
     ]
    },
    {
     "name": "stderr",
     "output_type": "stream",
     "text": [
      "2024-12-01 12:07:31,010 - INFO - HTTP Request: POST http://127.0.0.1:11434/api/generate \"HTTP/1.1 200 OK\"\n"
     ]
    },
    {
     "name": "stdout",
     "output_type": "stream",
     "text": [
      "⏱️ Time: 14.44s\n",
      "\n",
      "📊 Evaluating responses...\n",
      "\n",
      "Detailed Scores for Question 10:\n",
      "\n",
      "GPT-4:\n",
      "correctness: 0.00\n",
      "mathematical_reasoning: 0.70\n",
      "solution_completeness: 0.35\n",
      "explanation_quality: 0.70\n",
      "coherence: 0.70\n",
      "time_efficiency: 0.90\n",
      "Final Score: 0.38\n",
      "\n",
      "TinyLlama:\n",
      "correctness: 0.00\n",
      "mathematical_reasoning: 0.00\n",
      "solution_completeness: 0.00\n",
      "explanation_quality: 0.10\n",
      "coherence: 0.10\n",
      "time_efficiency: 0.70\n",
      "Final Score: 0.05\n",
      "\n",
      "💾 Saving intermediate results...\n",
      "\n",
      "Progress: 10/60 questions completed (16.7%)\n",
      "\n",
      "============================================================\n",
      "📝 Question 11/60\n",
      "Subject: Abstract Algebra\n",
      "Question: Statement 1 | If f is a homomorphism from G to K and H is normal in G then f(H) is normal in K. Statement 2 | If f is a homomorphism from G to a group and H is finite subgroup of G, then |f(H)| divides |H|.\n",
      "\n",
      "🤖 GPT-4 [Question 11]\n"
     ]
    },
    {
     "name": "stderr",
     "output_type": "stream",
     "text": [
      "2024-12-01 12:07:39,080 - INFO - HTTP Request: POST https://access-01.openai.azure.com/openai/deployments/gpt-4o/chat/completions?api-version=2024-08-01-preview \"HTTP/1.1 200 OK\"\n"
     ]
    },
    {
     "name": "stdout",
     "output_type": "stream",
     "text": [
      "⏱️ Time: 8.02s\n",
      "\n",
      "🦙 TinyLlama [Question 11]\n"
     ]
    },
    {
     "name": "stderr",
     "output_type": "stream",
     "text": [
      "2024-12-01 12:07:55,905 - INFO - HTTP Request: POST http://127.0.0.1:11434/api/generate \"HTTP/1.1 200 OK\"\n"
     ]
    },
    {
     "name": "stdout",
     "output_type": "stream",
     "text": [
      "⏱️ Time: 16.82s\n",
      "\n",
      "📊 Evaluating responses...\n",
      "\n",
      "Detailed Scores for Question 11:\n",
      "\n",
      "GPT-4:\n",
      "correctness: 0.00\n",
      "mathematical_reasoning: 0.30\n",
      "solution_completeness: 0.33\n",
      "explanation_quality: 0.43\n",
      "coherence: 0.55\n",
      "time_efficiency: 0.90\n",
      "Final Score: 0.24\n",
      "\n",
      "TinyLlama:\n",
      "correctness: 0.00\n",
      "mathematical_reasoning: 0.10\n",
      "solution_completeness: 0.00\n",
      "explanation_quality: 0.00\n",
      "coherence: 0.10\n",
      "time_efficiency: 0.70\n",
      "Final Score: 0.07\n",
      "\n",
      "Progress: 11/60 questions completed (18.3%)\n",
      "\n",
      "============================================================\n",
      "📝 Question 12/60\n",
      "Subject: Abstract Algebra\n",
      "Question: Find the maximum possible order for some element of Z_4 x Z_6.\n",
      "\n",
      "🤖 GPT-4 [Question 12]\n"
     ]
    },
    {
     "name": "stderr",
     "output_type": "stream",
     "text": [
      "2024-12-01 12:08:05,498 - INFO - HTTP Request: POST https://access-01.openai.azure.com/openai/deployments/gpt-4o/chat/completions?api-version=2024-08-01-preview \"HTTP/1.1 200 OK\"\n"
     ]
    },
    {
     "name": "stdout",
     "output_type": "stream",
     "text": [
      "⏱️ Time: 9.60s\n",
      "\n",
      "🦙 TinyLlama [Question 12]\n"
     ]
    },
    {
     "name": "stderr",
     "output_type": "stream",
     "text": [
      "2024-12-01 12:08:21,602 - INFO - HTTP Request: POST http://127.0.0.1:11434/api/generate \"HTTP/1.1 200 OK\"\n"
     ]
    },
    {
     "name": "stdout",
     "output_type": "stream",
     "text": [
      "⏱️ Time: 16.10s\n",
      "\n",
      "📊 Evaluating responses...\n",
      "\n",
      "Detailed Scores for Question 12:\n",
      "\n",
      "GPT-4:\n",
      "correctness: 1.00\n",
      "mathematical_reasoning: 0.30\n",
      "solution_completeness: 0.38\n",
      "explanation_quality: 0.43\n",
      "coherence: 0.20\n",
      "time_efficiency: 0.90\n",
      "Final Score: 0.63\n",
      "\n",
      "TinyLlama:\n",
      "correctness: 0.00\n",
      "mathematical_reasoning: 0.00\n",
      "solution_completeness: 0.00\n",
      "explanation_quality: 0.10\n",
      "coherence: 0.00\n",
      "time_efficiency: 0.70\n",
      "Final Score: 0.04\n",
      "\n",
      "Progress: 12/60 questions completed (20.0%)\n",
      "\n",
      "============================================================\n",
      "📝 Question 13/60\n",
      "Subject: Abstract Algebra\n",
      "Question: The cyclic subgroup of Z_24 generated by 18 has order\n",
      "\n",
      "🤖 GPT-4 [Question 13]\n"
     ]
    },
    {
     "name": "stderr",
     "output_type": "stream",
     "text": [
      "2024-12-01 12:08:26,518 - INFO - HTTP Request: POST https://access-01.openai.azure.com/openai/deployments/gpt-4o/chat/completions?api-version=2024-08-01-preview \"HTTP/1.1 200 OK\"\n"
     ]
    },
    {
     "name": "stdout",
     "output_type": "stream",
     "text": [
      "⏱️ Time: 4.92s\n",
      "\n",
      "🦙 TinyLlama [Question 13]\n"
     ]
    },
    {
     "name": "stderr",
     "output_type": "stream",
     "text": [
      "2024-12-01 12:08:36,044 - INFO - HTTP Request: POST http://127.0.0.1:11434/api/generate \"HTTP/1.1 200 OK\"\n"
     ]
    },
    {
     "name": "stdout",
     "output_type": "stream",
     "text": [
      "⏱️ Time: 9.51s\n",
      "\n",
      "📊 Evaluating responses...\n",
      "\n",
      "Detailed Scores for Question 13:\n",
      "\n",
      "GPT-4:\n",
      "correctness: 1.00\n",
      "mathematical_reasoning: 0.90\n",
      "solution_completeness: 0.38\n",
      "explanation_quality: 0.50\n",
      "coherence: 0.20\n",
      "time_efficiency: 0.90\n",
      "Final Score: 0.86\n",
      "\n",
      "TinyLlama:\n",
      "correctness: 1.00\n",
      "mathematical_reasoning: 0.00\n",
      "solution_completeness: 0.00\n",
      "explanation_quality: 0.00\n",
      "coherence: 0.00\n",
      "time_efficiency: 0.90\n",
      "Final Score: 0.45\n",
      "\n",
      "Progress: 13/60 questions completed (21.7%)\n",
      "\n",
      "============================================================\n",
      "📝 Question 14/60\n",
      "Subject: Abstract Algebra\n",
      "Question: Find the maximum possible order for an element of S_n for n = 7.\n",
      "\n",
      "🤖 GPT-4 [Question 14]\n"
     ]
    },
    {
     "name": "stderr",
     "output_type": "stream",
     "text": [
      "2024-12-01 12:08:40,836 - INFO - HTTP Request: POST https://access-01.openai.azure.com/openai/deployments/gpt-4o/chat/completions?api-version=2024-08-01-preview \"HTTP/1.1 200 OK\"\n"
     ]
    },
    {
     "name": "stdout",
     "output_type": "stream",
     "text": [
      "⏱️ Time: 4.80s\n",
      "\n",
      "🦙 TinyLlama [Question 14]\n"
     ]
    },
    {
     "name": "stderr",
     "output_type": "stream",
     "text": [
      "2024-12-01 12:08:57,229 - INFO - HTTP Request: POST http://127.0.0.1:11434/api/generate \"HTTP/1.1 200 OK\"\n"
     ]
    },
    {
     "name": "stdout",
     "output_type": "stream",
     "text": [
      "⏱️ Time: 16.39s\n",
      "\n",
      "📊 Evaluating responses...\n",
      "\n",
      "Detailed Scores for Question 14:\n",
      "\n",
      "GPT-4:\n",
      "correctness: 1.00\n",
      "mathematical_reasoning: 0.60\n",
      "solution_completeness: 0.38\n",
      "explanation_quality: 0.32\n",
      "coherence: 0.00\n",
      "time_efficiency: 0.90\n",
      "Final Score: 0.68\n",
      "\n",
      "TinyLlama:\n",
      "correctness: 0.00\n",
      "mathematical_reasoning: 0.00\n",
      "solution_completeness: 0.09\n",
      "explanation_quality: 0.10\n",
      "coherence: 0.00\n",
      "time_efficiency: 0.70\n",
      "Final Score: 0.06\n",
      "\n",
      "Progress: 14/60 questions completed (23.3%)\n",
      "\n",
      "============================================================\n",
      "📝 Question 15/60\n",
      "Subject: Abstract Algebra\n",
      "Question: Find the maximum possible order for an element of S_n for n = 7.\n",
      "\n",
      "🤖 GPT-4 [Question 15]\n"
     ]
    },
    {
     "name": "stderr",
     "output_type": "stream",
     "text": [
      "2024-12-01 12:09:03,657 - INFO - HTTP Request: POST https://access-01.openai.azure.com/openai/deployments/gpt-4o/chat/completions?api-version=2024-08-01-preview \"HTTP/1.1 200 OK\"\n"
     ]
    },
    {
     "name": "stdout",
     "output_type": "stream",
     "text": [
      "⏱️ Time: 6.43s\n",
      "\n",
      "🦙 TinyLlama [Question 15]\n"
     ]
    },
    {
     "name": "stderr",
     "output_type": "stream",
     "text": [
      "2024-12-01 12:09:03,988 - INFO - HTTP Request: POST http://127.0.0.1:11434/api/generate \"HTTP/1.1 200 OK\"\n"
     ]
    },
    {
     "name": "stdout",
     "output_type": "stream",
     "text": [
      "⏱️ Time: 0.32s\n",
      "\n",
      "📊 Evaluating responses...\n",
      "\n",
      "Detailed Scores for Question 15:\n",
      "\n",
      "GPT-4:\n",
      "correctness: 1.00\n",
      "mathematical_reasoning: 0.60\n",
      "solution_completeness: 0.38\n",
      "explanation_quality: 0.50\n",
      "coherence: 0.00\n",
      "time_efficiency: 0.90\n",
      "Final Score: 0.70\n",
      "\n",
      "TinyLlama:\n",
      "correctness: 0.00\n",
      "mathematical_reasoning: 0.00\n",
      "solution_completeness: 0.00\n",
      "explanation_quality: 0.00\n",
      "coherence: 0.00\n",
      "time_efficiency: 0.00\n",
      "Final Score: 0.00\n",
      "\n",
      "💾 Saving intermediate results...\n",
      "\n",
      "Progress: 15/60 questions completed (25.0%)\n",
      "\n",
      "============================================================\n",
      "📝 Question 16/60\n",
      "Subject: College Mathematics\n",
      "Question: Let S, T, and U be nonempty sets, and let f: S -> T and g: T -> U be functions such that the function g f : S -> U is one-to-one (injective). Which of the following must be true?\n",
      "\n",
      "🤖 GPT-4 [Question 16]\n"
     ]
    },
    {
     "name": "stderr",
     "output_type": "stream",
     "text": [
      "2024-12-01 12:09:13,363 - INFO - HTTP Request: POST https://access-01.openai.azure.com/openai/deployments/gpt-4o/chat/completions?api-version=2024-08-01-preview \"HTTP/1.1 200 OK\"\n"
     ]
    },
    {
     "name": "stdout",
     "output_type": "stream",
     "text": [
      "⏱️ Time: 9.37s\n",
      "\n",
      "🦙 TinyLlama [Question 16]\n"
     ]
    },
    {
     "name": "stderr",
     "output_type": "stream",
     "text": [
      "2024-12-01 12:09:25,847 - INFO - HTTP Request: POST http://127.0.0.1:11434/api/generate \"HTTP/1.1 200 OK\"\n"
     ]
    },
    {
     "name": "stdout",
     "output_type": "stream",
     "text": [
      "⏱️ Time: 12.47s\n",
      "\n",
      "📊 Evaluating responses...\n",
      "\n",
      "Detailed Scores for Question 16:\n",
      "\n",
      "GPT-4:\n",
      "correctness: 1.00\n",
      "mathematical_reasoning: 0.60\n",
      "solution_completeness: 0.30\n",
      "explanation_quality: 0.50\n",
      "coherence: 0.55\n",
      "time_efficiency: 0.90\n",
      "Final Score: 0.72\n",
      "\n",
      "TinyLlama:\n",
      "correctness: 1.00\n",
      "mathematical_reasoning: 0.00\n",
      "solution_completeness: 0.00\n",
      "explanation_quality: 0.00\n",
      "coherence: 0.00\n",
      "time_efficiency: 0.70\n",
      "Final Score: 0.43\n",
      "\n",
      "Progress: 16/60 questions completed (26.7%)\n",
      "\n",
      "============================================================\n",
      "📝 Question 17/60\n",
      "Subject: College Mathematics\n",
      "Question: What is the volume of the solid in xyz-space bounded by the surfaces y = x^2, y = 2 - x^2, z = 0, and z = y + 3?\n",
      "\n",
      "🤖 GPT-4 [Question 17]\n"
     ]
    },
    {
     "name": "stderr",
     "output_type": "stream",
     "text": [
      "2024-12-01 12:09:40,497 - INFO - HTTP Request: POST https://access-01.openai.azure.com/openai/deployments/gpt-4o/chat/completions?api-version=2024-08-01-preview \"HTTP/1.1 200 OK\"\n"
     ]
    },
    {
     "name": "stdout",
     "output_type": "stream",
     "text": [
      "⏱️ Time: 14.65s\n",
      "\n",
      "🦙 TinyLlama [Question 17]\n"
     ]
    },
    {
     "name": "stderr",
     "output_type": "stream",
     "text": [
      "2024-12-01 12:09:51,312 - INFO - HTTP Request: POST http://127.0.0.1:11434/api/generate \"HTTP/1.1 200 OK\"\n"
     ]
    },
    {
     "name": "stdout",
     "output_type": "stream",
     "text": [
      "⏱️ Time: 10.80s\n",
      "\n",
      "📊 Evaluating responses...\n",
      "\n",
      "Detailed Scores for Question 17:\n",
      "\n",
      "GPT-4:\n",
      "correctness: 1.00\n",
      "mathematical_reasoning: 0.90\n",
      "solution_completeness: 0.45\n",
      "explanation_quality: 0.50\n",
      "coherence: 0.20\n",
      "time_efficiency: 0.70\n",
      "Final Score: 0.87\n",
      "\n",
      "TinyLlama:\n",
      "correctness: 0.00\n",
      "mathematical_reasoning: 0.00\n",
      "solution_completeness: 0.00\n",
      "explanation_quality: 0.00\n",
      "coherence: 0.00\n",
      "time_efficiency: 0.70\n",
      "Final Score: 0.03\n",
      "\n",
      "Progress: 17/60 questions completed (28.3%)\n",
      "\n",
      "============================================================\n",
      "📝 Question 18/60\n",
      "Subject: College Mathematics\n",
      "Question: Suppose A, B, and C are statements such that C is true if exactly one of A and B is true. If C is false, which of the following statements must be true?\n",
      "\n",
      "🤖 GPT-4 [Question 18]\n"
     ]
    },
    {
     "name": "stderr",
     "output_type": "stream",
     "text": [
      "2024-12-01 12:09:56,395 - INFO - HTTP Request: POST https://access-01.openai.azure.com/openai/deployments/gpt-4o/chat/completions?api-version=2024-08-01-preview \"HTTP/1.1 200 OK\"\n"
     ]
    },
    {
     "name": "stdout",
     "output_type": "stream",
     "text": [
      "⏱️ Time: 5.09s\n",
      "\n",
      "🦙 TinyLlama [Question 18]\n"
     ]
    },
    {
     "name": "stderr",
     "output_type": "stream",
     "text": [
      "2024-12-01 12:10:09,684 - INFO - HTTP Request: POST http://127.0.0.1:11434/api/generate \"HTTP/1.1 200 OK\"\n"
     ]
    },
    {
     "name": "stdout",
     "output_type": "stream",
     "text": [
      "⏱️ Time: 13.28s\n",
      "\n",
      "📊 Evaluating responses...\n",
      "\n",
      "Detailed Scores for Question 18:\n",
      "\n",
      "GPT-4:\n",
      "correctness: 1.00\n",
      "mathematical_reasoning: 0.30\n",
      "solution_completeness: 0.55\n",
      "explanation_quality: 0.65\n",
      "coherence: 0.62\n",
      "time_efficiency: 0.90\n",
      "Final Score: 0.70\n",
      "\n",
      "TinyLlama:\n",
      "correctness: 0.00\n",
      "mathematical_reasoning: 0.00\n",
      "solution_completeness: 0.00\n",
      "explanation_quality: 0.00\n",
      "coherence: 0.00\n",
      "time_efficiency: 0.70\n",
      "Final Score: 0.03\n",
      "\n",
      "Progress: 18/60 questions completed (30.0%)\n",
      "\n",
      "============================================================\n",
      "📝 Question 19/60\n",
      "Subject: College Mathematics\n",
      "Question: k digits are to be chosen at random (with repetitions allowed) from {0, 1, 2, 3, 4, 5, 6, 7, 8, 9}. What is the probability that 0 will not be chosen?\n",
      "\n",
      "🤖 GPT-4 [Question 19]\n"
     ]
    },
    {
     "name": "stderr",
     "output_type": "stream",
     "text": [
      "2024-12-01 12:10:14,612 - INFO - HTTP Request: POST https://access-01.openai.azure.com/openai/deployments/gpt-4o/chat/completions?api-version=2024-08-01-preview \"HTTP/1.1 200 OK\"\n"
     ]
    },
    {
     "name": "stdout",
     "output_type": "stream",
     "text": [
      "⏱️ Time: 4.93s\n",
      "\n",
      "🦙 TinyLlama [Question 19]\n"
     ]
    },
    {
     "name": "stderr",
     "output_type": "stream",
     "text": [
      "2024-12-01 12:10:26,116 - INFO - HTTP Request: POST http://127.0.0.1:11434/api/generate \"HTTP/1.1 200 OK\"\n"
     ]
    },
    {
     "name": "stdout",
     "output_type": "stream",
     "text": [
      "⏱️ Time: 11.49s\n",
      "\n",
      "📊 Evaluating responses...\n",
      "\n",
      "Detailed Scores for Question 19:\n",
      "\n",
      "GPT-4:\n",
      "correctness: 1.00\n",
      "mathematical_reasoning: 0.45\n",
      "solution_completeness: 0.35\n",
      "explanation_quality: 0.35\n",
      "coherence: 0.38\n",
      "time_efficiency: 0.90\n",
      "Final Score: 0.66\n",
      "\n",
      "TinyLlama:\n",
      "correctness: 1.00\n",
      "mathematical_reasoning: 0.00\n",
      "solution_completeness: 0.00\n",
      "explanation_quality: 0.00\n",
      "coherence: 0.00\n",
      "time_efficiency: 0.70\n",
      "Final Score: 0.43\n",
      "\n",
      "Progress: 19/60 questions completed (31.7%)\n",
      "\n",
      "============================================================\n",
      "📝 Question 20/60\n",
      "Subject: College Mathematics\n",
      "Question: If a polynomial f(x) over the real numbers has the complex numbers 2 + i and 1 - i as roots, then f(x) could be\n",
      "\n",
      "🤖 GPT-4 [Question 20]\n"
     ]
    },
    {
     "name": "stderr",
     "output_type": "stream",
     "text": [
      "2024-12-01 12:10:34,468 - INFO - HTTP Request: POST https://access-01.openai.azure.com/openai/deployments/gpt-4o/chat/completions?api-version=2024-08-01-preview \"HTTP/1.1 200 OK\"\n"
     ]
    },
    {
     "name": "stdout",
     "output_type": "stream",
     "text": [
      "⏱️ Time: 8.35s\n",
      "\n",
      "🦙 TinyLlama [Question 20]\n"
     ]
    },
    {
     "name": "stderr",
     "output_type": "stream",
     "text": [
      "2024-12-01 12:10:49,119 - INFO - HTTP Request: POST http://127.0.0.1:11434/api/generate \"HTTP/1.1 200 OK\"\n"
     ]
    },
    {
     "name": "stdout",
     "output_type": "stream",
     "text": [
      "⏱️ Time: 14.64s\n",
      "\n",
      "📊 Evaluating responses...\n",
      "\n",
      "Detailed Scores for Question 20:\n",
      "\n",
      "GPT-4:\n",
      "correctness: 1.00\n",
      "mathematical_reasoning: 1.00\n",
      "solution_completeness: 0.45\n",
      "explanation_quality: 0.50\n",
      "coherence: 0.38\n",
      "time_efficiency: 0.90\n",
      "Final Score: 0.91\n",
      "\n",
      "TinyLlama:\n",
      "correctness: 0.00\n",
      "mathematical_reasoning: 0.10\n",
      "solution_completeness: 0.04\n",
      "explanation_quality: 0.07\n",
      "coherence: 0.00\n",
      "time_efficiency: 0.70\n",
      "Final Score: 0.07\n",
      "\n",
      "💾 Saving intermediate results...\n",
      "\n",
      "Progress: 20/60 questions completed (33.3%)\n",
      "\n",
      "============================================================\n",
      "📝 Question 21/60\n",
      "Subject: College Mathematics\n",
      "Question: What is the volume of the solid in xyz-space bounded by the surfaces y = x^2, y = 2 - x^2, z = 0, and z = y + 3?\n",
      "\n",
      "🤖 GPT-4 [Question 21]\n"
     ]
    },
    {
     "name": "stderr",
     "output_type": "stream",
     "text": [
      "2024-12-01 12:11:02,083 - INFO - HTTP Request: POST https://access-01.openai.azure.com/openai/deployments/gpt-4o/chat/completions?api-version=2024-08-01-preview \"HTTP/1.1 200 OK\"\n"
     ]
    },
    {
     "name": "stdout",
     "output_type": "stream",
     "text": [
      "⏱️ Time: 12.96s\n",
      "\n",
      "🦙 TinyLlama [Question 21]\n"
     ]
    },
    {
     "name": "stderr",
     "output_type": "stream",
     "text": [
      "2024-12-01 12:11:15,664 - INFO - HTTP Request: POST http://127.0.0.1:11434/api/generate \"HTTP/1.1 200 OK\"\n"
     ]
    },
    {
     "name": "stdout",
     "output_type": "stream",
     "text": [
      "⏱️ Time: 13.57s\n",
      "\n",
      "📊 Evaluating responses...\n",
      "\n",
      "Detailed Scores for Question 21:\n",
      "\n",
      "GPT-4:\n",
      "correctness: 1.00\n",
      "mathematical_reasoning: 0.80\n",
      "solution_completeness: 0.40\n",
      "explanation_quality: 0.65\n",
      "coherence: 0.28\n",
      "time_efficiency: 0.70\n",
      "Final Score: 0.85\n",
      "\n",
      "TinyLlama:\n",
      "correctness: 0.00\n",
      "mathematical_reasoning: 0.00\n",
      "solution_completeness: 0.00\n",
      "explanation_quality: 0.00\n",
      "coherence: 0.00\n",
      "time_efficiency: 0.70\n",
      "Final Score: 0.03\n",
      "\n",
      "Progress: 21/60 questions completed (35.0%)\n",
      "\n",
      "============================================================\n",
      "📝 Question 22/60\n",
      "Subject: College Mathematics\n",
      "Question: Suppose A, B, and C are statements such that C is true if exactly one of A and B is true. If C is false, which of the following statements must be true?\n",
      "\n",
      "🤖 GPT-4 [Question 22]\n"
     ]
    },
    {
     "name": "stderr",
     "output_type": "stream",
     "text": [
      "2024-12-01 12:11:20,089 - INFO - HTTP Request: POST https://access-01.openai.azure.com/openai/deployments/gpt-4o/chat/completions?api-version=2024-08-01-preview \"HTTP/1.1 200 OK\"\n"
     ]
    },
    {
     "name": "stdout",
     "output_type": "stream",
     "text": [
      "⏱️ Time: 4.43s\n",
      "\n",
      "🦙 TinyLlama [Question 22]\n"
     ]
    },
    {
     "name": "stderr",
     "output_type": "stream",
     "text": [
      "2024-12-01 12:11:31,175 - INFO - HTTP Request: POST http://127.0.0.1:11434/api/generate \"HTTP/1.1 200 OK\"\n"
     ]
    },
    {
     "name": "stdout",
     "output_type": "stream",
     "text": [
      "⏱️ Time: 11.08s\n",
      "\n",
      "📊 Evaluating responses...\n",
      "\n",
      "Detailed Scores for Question 22:\n",
      "\n",
      "GPT-4:\n",
      "correctness: 1.00\n",
      "mathematical_reasoning: 0.30\n",
      "solution_completeness: 0.55\n",
      "explanation_quality: 0.65\n",
      "coherence: 0.62\n",
      "time_efficiency: 0.90\n",
      "Final Score: 0.70\n",
      "\n",
      "TinyLlama:\n",
      "correctness: 0.00\n",
      "mathematical_reasoning: 0.00\n",
      "solution_completeness: 0.00\n",
      "explanation_quality: 0.00\n",
      "coherence: 0.00\n",
      "time_efficiency: 0.00\n",
      "Final Score: 0.00\n",
      "\n",
      "Progress: 22/60 questions completed (36.7%)\n",
      "\n",
      "============================================================\n",
      "📝 Question 23/60\n",
      "Subject: College Mathematics\n",
      "Question: What is the volume of the solid in xyz-space bounded by the surfaces y = x^2, y = 2 - x^2, z = 0, and z = y + 3?\n",
      "\n",
      "🤖 GPT-4 [Question 23]\n"
     ]
    },
    {
     "name": "stderr",
     "output_type": "stream",
     "text": [
      "2024-12-01 12:11:47,259 - INFO - HTTP Request: POST https://access-01.openai.azure.com/openai/deployments/gpt-4o/chat/completions?api-version=2024-08-01-preview \"HTTP/1.1 200 OK\"\n"
     ]
    },
    {
     "name": "stdout",
     "output_type": "stream",
     "text": [
      "⏱️ Time: 16.09s\n",
      "\n",
      "🦙 TinyLlama [Question 23]\n"
     ]
    },
    {
     "name": "stderr",
     "output_type": "stream",
     "text": [
      "2024-12-01 12:11:59,430 - INFO - HTTP Request: POST http://127.0.0.1:11434/api/generate \"HTTP/1.1 200 OK\"\n"
     ]
    },
    {
     "name": "stdout",
     "output_type": "stream",
     "text": [
      "⏱️ Time: 12.16s\n",
      "\n",
      "📊 Evaluating responses...\n",
      "\n",
      "Detailed Scores for Question 23:\n",
      "\n",
      "GPT-4:\n",
      "correctness: 1.00\n",
      "mathematical_reasoning: 0.70\n",
      "solution_completeness: 0.60\n",
      "explanation_quality: 0.43\n",
      "coherence: 0.38\n",
      "time_efficiency: 0.70\n",
      "Final Score: 0.84\n",
      "\n",
      "TinyLlama:\n",
      "correctness: 0.00\n",
      "mathematical_reasoning: 0.00\n",
      "solution_completeness: 0.00\n",
      "explanation_quality: 0.00\n",
      "coherence: 0.00\n",
      "time_efficiency: 0.70\n",
      "Final Score: 0.03\n",
      "\n",
      "Progress: 23/60 questions completed (38.3%)\n",
      "\n",
      "============================================================\n",
      "📝 Question 24/60\n",
      "Subject: College Mathematics\n",
      "Question: For what value of b is the line y = 10x tangent to the curve y = e^(bx) at some point in the xy-plane?\n",
      "\n",
      "🤖 GPT-4 [Question 24]\n"
     ]
    },
    {
     "name": "stderr",
     "output_type": "stream",
     "text": [
      "2024-12-01 12:12:06,702 - INFO - HTTP Request: POST https://access-01.openai.azure.com/openai/deployments/gpt-4o/chat/completions?api-version=2024-08-01-preview \"HTTP/1.1 200 OK\"\n"
     ]
    },
    {
     "name": "stdout",
     "output_type": "stream",
     "text": [
      "⏱️ Time: 7.27s\n",
      "\n",
      "🦙 TinyLlama [Question 24]\n"
     ]
    },
    {
     "name": "stderr",
     "output_type": "stream",
     "text": [
      "2024-12-01 12:12:23,722 - INFO - HTTP Request: POST http://127.0.0.1:11434/api/generate \"HTTP/1.1 200 OK\"\n"
     ]
    },
    {
     "name": "stdout",
     "output_type": "stream",
     "text": [
      "⏱️ Time: 17.02s\n",
      "\n",
      "📊 Evaluating responses...\n",
      "\n",
      "Detailed Scores for Question 24:\n",
      "\n",
      "GPT-4:\n",
      "correctness: 1.00\n",
      "mathematical_reasoning: 1.00\n",
      "solution_completeness: 0.50\n",
      "explanation_quality: 0.35\n",
      "coherence: 0.55\n",
      "time_efficiency: 0.90\n",
      "Final Score: 0.92\n",
      "\n",
      "TinyLlama:\n",
      "correctness: 1.00\n",
      "mathematical_reasoning: 0.70\n",
      "solution_completeness: 0.15\n",
      "explanation_quality: 0.35\n",
      "coherence: 0.17\n",
      "time_efficiency: 0.70\n",
      "Final Score: 0.68\n",
      "\n",
      "Progress: 24/60 questions completed (40.0%)\n",
      "\n",
      "============================================================\n",
      "📝 Question 25/60\n",
      "Subject: College Mathematics\n",
      "Question: If one arch of the curve y = sin x is revolved around the x-axis, what's the volume of the generated solid?\n",
      "\n",
      "🤖 GPT-4 [Question 25]\n"
     ]
    },
    {
     "name": "stderr",
     "output_type": "stream",
     "text": [
      "2024-12-01 12:12:32,414 - INFO - HTTP Request: POST https://access-01.openai.azure.com/openai/deployments/gpt-4o/chat/completions?api-version=2024-08-01-preview \"HTTP/1.1 200 OK\"\n"
     ]
    },
    {
     "name": "stdout",
     "output_type": "stream",
     "text": [
      "⏱️ Time: 8.70s\n",
      "\n",
      "🦙 TinyLlama [Question 25]\n"
     ]
    },
    {
     "name": "stderr",
     "output_type": "stream",
     "text": [
      "2024-12-01 12:12:43,801 - INFO - HTTP Request: POST http://127.0.0.1:11434/api/generate \"HTTP/1.1 200 OK\"\n"
     ]
    },
    {
     "name": "stdout",
     "output_type": "stream",
     "text": [
      "⏱️ Time: 11.38s\n",
      "\n",
      "📊 Evaluating responses...\n",
      "\n",
      "Detailed Scores for Question 25:\n",
      "\n",
      "GPT-4:\n",
      "correctness: 1.00\n",
      "mathematical_reasoning: 0.80\n",
      "solution_completeness: 0.25\n",
      "explanation_quality: 0.35\n",
      "coherence: 0.38\n",
      "time_efficiency: 0.90\n",
      "Final Score: 0.81\n",
      "\n",
      "TinyLlama:\n",
      "correctness: 0.00\n",
      "mathematical_reasoning: 0.00\n",
      "solution_completeness: 0.00\n",
      "explanation_quality: 0.00\n",
      "coherence: 0.00\n",
      "time_efficiency: 0.70\n",
      "Final Score: 0.03\n",
      "\n",
      "💾 Saving intermediate results...\n",
      "\n",
      "Progress: 25/60 questions completed (41.7%)\n",
      "\n",
      "============================================================\n",
      "📝 Question 26/60\n",
      "Subject: College Mathematics\n",
      "Question: Suppose A, B, and C are statements such that C is true if exactly one of A and B is true. If C is false, which of the following statements must be true?\n",
      "\n",
      "🤖 GPT-4 [Question 26]\n"
     ]
    },
    {
     "name": "stderr",
     "output_type": "stream",
     "text": [
      "2024-12-01 12:12:48,693 - INFO - HTTP Request: POST https://access-01.openai.azure.com/openai/deployments/gpt-4o/chat/completions?api-version=2024-08-01-preview \"HTTP/1.1 200 OK\"\n"
     ]
    },
    {
     "name": "stdout",
     "output_type": "stream",
     "text": [
      "⏱️ Time: 4.89s\n",
      "\n",
      "🦙 TinyLlama [Question 26]\n"
     ]
    },
    {
     "name": "stderr",
     "output_type": "stream",
     "text": [
      "2024-12-01 12:13:01,207 - INFO - HTTP Request: POST http://127.0.0.1:11434/api/generate \"HTTP/1.1 200 OK\"\n"
     ]
    },
    {
     "name": "stdout",
     "output_type": "stream",
     "text": [
      "⏱️ Time: 12.50s\n",
      "\n",
      "📊 Evaluating responses...\n",
      "\n",
      "Detailed Scores for Question 26:\n",
      "\n",
      "GPT-4:\n",
      "correctness: 1.00\n",
      "mathematical_reasoning: 0.20\n",
      "solution_completeness: 0.55\n",
      "explanation_quality: 0.65\n",
      "coherence: 0.62\n",
      "time_efficiency: 0.90\n",
      "Final Score: 0.67\n",
      "\n",
      "TinyLlama:\n",
      "correctness: 0.00\n",
      "mathematical_reasoning: 0.00\n",
      "solution_completeness: 0.00\n",
      "explanation_quality: 0.00\n",
      "coherence: 0.00\n",
      "time_efficiency: 0.70\n",
      "Final Score: 0.03\n",
      "\n",
      "Progress: 26/60 questions completed (43.3%)\n",
      "\n",
      "============================================================\n",
      "📝 Question 27/60\n",
      "Subject: College Mathematics\n",
      "Question: k digits are to be chosen at random (with repetitions allowed) from {0, 1, 2, 3, 4, 5, 6, 7, 8, 9}. What is the probability that 0 will not be chosen?\n",
      "\n",
      "🤖 GPT-4 [Question 27]\n"
     ]
    },
    {
     "name": "stderr",
     "output_type": "stream",
     "text": [
      "2024-12-01 12:13:07,737 - INFO - HTTP Request: POST https://access-01.openai.azure.com/openai/deployments/gpt-4o/chat/completions?api-version=2024-08-01-preview \"HTTP/1.1 200 OK\"\n"
     ]
    },
    {
     "name": "stdout",
     "output_type": "stream",
     "text": [
      "⏱️ Time: 6.54s\n",
      "\n",
      "🦙 TinyLlama [Question 27]\n"
     ]
    },
    {
     "name": "stderr",
     "output_type": "stream",
     "text": [
      "2024-12-01 12:13:20,496 - INFO - HTTP Request: POST http://127.0.0.1:11434/api/generate \"HTTP/1.1 200 OK\"\n"
     ]
    },
    {
     "name": "stdout",
     "output_type": "stream",
     "text": [
      "⏱️ Time: 12.75s\n",
      "\n",
      "📊 Evaluating responses...\n",
      "\n",
      "Detailed Scores for Question 27:\n",
      "\n",
      "GPT-4:\n",
      "correctness: 1.00\n",
      "mathematical_reasoning: 0.55\n",
      "solution_completeness: 0.10\n",
      "explanation_quality: 0.35\n",
      "coherence: 0.28\n",
      "time_efficiency: 0.90\n",
      "Final Score: 0.65\n",
      "\n",
      "TinyLlama:\n",
      "correctness: 1.00\n",
      "mathematical_reasoning: 0.00\n",
      "solution_completeness: 0.05\n",
      "explanation_quality: 0.00\n",
      "coherence: 0.00\n",
      "time_efficiency: 0.70\n",
      "Final Score: 0.44\n",
      "\n",
      "Progress: 27/60 questions completed (45.0%)\n",
      "\n",
      "============================================================\n",
      "📝 Question 28/60\n",
      "Subject: College Mathematics\n",
      "Question: In the complex z-plane, the set of points satisfying the equation z^2 = |z|^2 is a\n",
      "\n",
      "🤖 GPT-4 [Question 28]\n"
     ]
    },
    {
     "name": "stderr",
     "output_type": "stream",
     "text": [
      "2024-12-01 12:13:29,801 - INFO - HTTP Request: POST https://access-01.openai.azure.com/openai/deployments/gpt-4o/chat/completions?api-version=2024-08-01-preview \"HTTP/1.1 200 OK\"\n"
     ]
    },
    {
     "name": "stdout",
     "output_type": "stream",
     "text": [
      "⏱️ Time: 9.30s\n",
      "\n",
      "🦙 TinyLlama [Question 28]\n"
     ]
    },
    {
     "name": "stderr",
     "output_type": "stream",
     "text": [
      "2024-12-01 12:13:41,126 - INFO - HTTP Request: POST http://127.0.0.1:11434/api/generate \"HTTP/1.1 200 OK\"\n"
     ]
    },
    {
     "name": "stdout",
     "output_type": "stream",
     "text": [
      "⏱️ Time: 11.32s\n",
      "\n",
      "📊 Evaluating responses...\n",
      "\n",
      "Detailed Scores for Question 28:\n",
      "\n",
      "GPT-4:\n",
      "correctness: 1.00\n",
      "mathematical_reasoning: 0.80\n",
      "solution_completeness: 0.28\n",
      "explanation_quality: 0.43\n",
      "coherence: 0.55\n",
      "time_efficiency: 0.90\n",
      "Final Score: 0.83\n",
      "\n",
      "TinyLlama:\n",
      "correctness: 0.00\n",
      "mathematical_reasoning: 0.00\n",
      "solution_completeness: 0.00\n",
      "explanation_quality: 0.00\n",
      "coherence: 0.00\n",
      "time_efficiency: 0.70\n",
      "Final Score: 0.03\n",
      "\n",
      "Progress: 28/60 questions completed (46.7%)\n",
      "\n",
      "============================================================\n",
      "📝 Question 29/60\n",
      "Subject: College Mathematics\n",
      "Question: Let S, T, and U be nonempty sets, and let f: S -> T and g: T -> U be functions such that the function g f : S -> U is one-to-one (injective). Which of the following must be true?\n",
      "\n",
      "🤖 GPT-4 [Question 29]\n"
     ]
    },
    {
     "name": "stderr",
     "output_type": "stream",
     "text": [
      "2024-12-01 12:13:49,249 - INFO - HTTP Request: POST https://access-01.openai.azure.com/openai/deployments/gpt-4o/chat/completions?api-version=2024-08-01-preview \"HTTP/1.1 200 OK\"\n"
     ]
    },
    {
     "name": "stdout",
     "output_type": "stream",
     "text": [
      "⏱️ Time: 8.13s\n",
      "\n",
      "🦙 TinyLlama [Question 29]\n"
     ]
    },
    {
     "name": "stderr",
     "output_type": "stream",
     "text": [
      "2024-12-01 12:14:03,524 - INFO - HTTP Request: POST http://127.0.0.1:11434/api/generate \"HTTP/1.1 200 OK\"\n"
     ]
    },
    {
     "name": "stdout",
     "output_type": "stream",
     "text": [
      "⏱️ Time: 14.27s\n",
      "\n",
      "📊 Evaluating responses...\n",
      "\n",
      "Detailed Scores for Question 29:\n",
      "\n",
      "GPT-4:\n",
      "correctness: 0.00\n",
      "mathematical_reasoning: 0.60\n",
      "solution_completeness: 0.35\n",
      "explanation_quality: 0.50\n",
      "coherence: 0.62\n",
      "time_efficiency: 0.90\n",
      "Final Score: 0.33\n",
      "\n",
      "TinyLlama:\n",
      "correctness: 1.00\n",
      "mathematical_reasoning: 0.00\n",
      "solution_completeness: 0.00\n",
      "explanation_quality: 0.00\n",
      "coherence: 0.00\n",
      "time_efficiency: 0.70\n",
      "Final Score: 0.43\n",
      "\n",
      "Progress: 29/60 questions completed (48.3%)\n",
      "\n",
      "============================================================\n",
      "📝 Question 30/60\n",
      "Subject: College Mathematics\n",
      "Question: Suppose A, B, and C are statements such that C is true if exactly one of A and B is true. If C is false, which of the following statements must be true?\n",
      "\n",
      "🤖 GPT-4 [Question 30]\n"
     ]
    },
    {
     "name": "stderr",
     "output_type": "stream",
     "text": [
      "2024-12-01 12:14:08,328 - INFO - HTTP Request: POST https://access-01.openai.azure.com/openai/deployments/gpt-4o/chat/completions?api-version=2024-08-01-preview \"HTTP/1.1 200 OK\"\n"
     ]
    },
    {
     "name": "stdout",
     "output_type": "stream",
     "text": [
      "⏱️ Time: 4.80s\n",
      "\n",
      "🦙 TinyLlama [Question 30]\n"
     ]
    },
    {
     "name": "stderr",
     "output_type": "stream",
     "text": [
      "2024-12-01 12:14:20,175 - INFO - HTTP Request: POST http://127.0.0.1:11434/api/generate \"HTTP/1.1 200 OK\"\n"
     ]
    },
    {
     "name": "stdout",
     "output_type": "stream",
     "text": [
      "⏱️ Time: 11.85s\n",
      "\n",
      "📊 Evaluating responses...\n",
      "\n",
      "Detailed Scores for Question 30:\n",
      "\n",
      "GPT-4:\n",
      "correctness: 1.00\n",
      "mathematical_reasoning: 0.20\n",
      "solution_completeness: 0.55\n",
      "explanation_quality: 0.70\n",
      "coherence: 0.62\n",
      "time_efficiency: 0.90\n",
      "Final Score: 0.68\n",
      "\n",
      "TinyLlama:\n",
      "correctness: 0.00\n",
      "mathematical_reasoning: 0.00\n",
      "solution_completeness: 0.00\n",
      "explanation_quality: 0.00\n",
      "coherence: 0.00\n",
      "time_efficiency: 0.00\n",
      "Final Score: 0.00\n",
      "\n",
      "💾 Saving intermediate results...\n",
      "\n",
      "Progress: 30/60 questions completed (50.0%)\n",
      "\n",
      "============================================================\n",
      "📝 Question 31/60\n",
      "Subject: Elementary Mathematics\n",
      "Question: What is the greatest common divisor of 54, 36, and 24?\n",
      "\n",
      "🤖 GPT-4 [Question 31]\n"
     ]
    },
    {
     "name": "stderr",
     "output_type": "stream",
     "text": [
      "2024-12-01 12:14:27,780 - INFO - HTTP Request: POST https://access-01.openai.azure.com/openai/deployments/gpt-4o/chat/completions?api-version=2024-08-01-preview \"HTTP/1.1 200 OK\"\n"
     ]
    },
    {
     "name": "stdout",
     "output_type": "stream",
     "text": [
      "⏱️ Time: 7.59s\n",
      "\n",
      "🦙 TinyLlama [Question 31]\n"
     ]
    },
    {
     "name": "stderr",
     "output_type": "stream",
     "text": [
      "2024-12-01 12:14:38,349 - INFO - HTTP Request: POST http://127.0.0.1:11434/api/generate \"HTTP/1.1 200 OK\"\n"
     ]
    },
    {
     "name": "stdout",
     "output_type": "stream",
     "text": [
      "⏱️ Time: 10.57s\n",
      "\n",
      "📊 Evaluating responses...\n",
      "\n",
      "Detailed Scores for Question 31:\n",
      "\n",
      "GPT-4:\n",
      "correctness: 1.00\n",
      "mathematical_reasoning: 0.85\n",
      "solution_completeness: 0.10\n",
      "explanation_quality: 0.35\n",
      "coherence: 0.48\n",
      "time_efficiency: 0.90\n",
      "Final Score: 0.80\n",
      "\n",
      "TinyLlama:\n",
      "correctness: 0.00\n",
      "mathematical_reasoning: 0.00\n",
      "solution_completeness: 0.00\n",
      "explanation_quality: 0.00\n",
      "coherence: 0.00\n",
      "time_efficiency: 0.70\n",
      "Final Score: 0.03\n",
      "\n",
      "Progress: 31/60 questions completed (51.7%)\n",
      "\n",
      "============================================================\n",
      "📝 Question 32/60\n",
      "Subject: Elementary Mathematics\n",
      "Question: Collin spent 7 hours volunteering last month. Vanessa spent 21 hours volunteering last month. Which equation correctly shows how many times more hours Vanessa spent volunteering last month than Collin?\n",
      "\n",
      "🤖 GPT-4 [Question 32]\n"
     ]
    },
    {
     "name": "stderr",
     "output_type": "stream",
     "text": [
      "2024-12-01 12:14:43,372 - INFO - HTTP Request: POST https://access-01.openai.azure.com/openai/deployments/gpt-4o/chat/completions?api-version=2024-08-01-preview \"HTTP/1.1 200 OK\"\n"
     ]
    },
    {
     "name": "stdout",
     "output_type": "stream",
     "text": [
      "⏱️ Time: 5.02s\n",
      "\n",
      "🦙 TinyLlama [Question 32]\n"
     ]
    },
    {
     "name": "stderr",
     "output_type": "stream",
     "text": [
      "2024-12-01 12:14:54,705 - INFO - HTTP Request: POST http://127.0.0.1:11434/api/generate \"HTTP/1.1 200 OK\"\n"
     ]
    },
    {
     "name": "stdout",
     "output_type": "stream",
     "text": [
      "⏱️ Time: 11.33s\n",
      "\n",
      "📊 Evaluating responses...\n",
      "\n",
      "Detailed Scores for Question 32:\n",
      "\n",
      "GPT-4:\n",
      "correctness: 1.00\n",
      "mathematical_reasoning: 0.80\n",
      "solution_completeness: 0.20\n",
      "explanation_quality: 0.50\n",
      "coherence: 0.20\n",
      "time_efficiency: 0.90\n",
      "Final Score: 0.81\n",
      "\n",
      "TinyLlama:\n",
      "correctness: 1.00\n",
      "mathematical_reasoning: 0.00\n",
      "solution_completeness: 0.00\n",
      "explanation_quality: 0.00\n",
      "coherence: 0.00\n",
      "time_efficiency: 0.70\n",
      "Final Score: 0.43\n",
      "\n",
      "Progress: 32/60 questions completed (53.3%)\n",
      "\n",
      "============================================================\n",
      "📝 Question 33/60\n",
      "Subject: Elementary Mathematics\n",
      "Question: Wendy wants to take a survey to determine which flavor of ice cream is the most popular at her school. Which of the following methods is the best way for her to choose a random sample of the students at her school?\n",
      "\n",
      "🤖 GPT-4 [Question 33]\n"
     ]
    },
    {
     "name": "stderr",
     "output_type": "stream",
     "text": [
      "2024-12-01 12:15:00,404 - INFO - HTTP Request: POST https://access-01.openai.azure.com/openai/deployments/gpt-4o/chat/completions?api-version=2024-08-01-preview \"HTTP/1.1 200 OK\"\n"
     ]
    },
    {
     "name": "stdout",
     "output_type": "stream",
     "text": [
      "⏱️ Time: 5.71s\n",
      "\n",
      "🦙 TinyLlama [Question 33]\n"
     ]
    },
    {
     "name": "stderr",
     "output_type": "stream",
     "text": [
      "2024-12-01 12:15:13,118 - INFO - HTTP Request: POST http://127.0.0.1:11434/api/generate \"HTTP/1.1 200 OK\"\n"
     ]
    },
    {
     "name": "stdout",
     "output_type": "stream",
     "text": [
      "⏱️ Time: 12.70s\n",
      "\n",
      "📊 Evaluating responses...\n",
      "\n",
      "Detailed Scores for Question 33:\n",
      "\n",
      "GPT-4:\n",
      "correctness: 1.00\n",
      "mathematical_reasoning: 0.10\n",
      "solution_completeness: 0.30\n",
      "explanation_quality: 0.43\n",
      "coherence: 0.28\n",
      "time_efficiency: 0.90\n",
      "Final Score: 0.57\n",
      "\n",
      "TinyLlama:\n",
      "correctness: 1.00\n",
      "mathematical_reasoning: 0.00\n",
      "solution_completeness: 0.00\n",
      "explanation_quality: 0.00\n",
      "coherence: 0.00\n",
      "time_efficiency: 0.70\n",
      "Final Score: 0.43\n",
      "\n",
      "Progress: 33/60 questions completed (55.0%)\n",
      "\n",
      "============================================================\n",
      "📝 Question 34/60\n",
      "Subject: Elementary Mathematics\n",
      "Question: Mr. Carson drove 1,027 miles in April. He drove 988 miles in May. Mr. Carson used the expression below to find how many more miles he drove in April than in May. 1,027 988 How many more miles did Mr. Carson drive in April than in May?\n",
      "\n",
      "🤖 GPT-4 [Question 34]\n"
     ]
    },
    {
     "name": "stderr",
     "output_type": "stream",
     "text": [
      "2024-12-01 12:15:20,649 - INFO - HTTP Request: POST https://access-01.openai.azure.com/openai/deployments/gpt-4o/chat/completions?api-version=2024-08-01-preview \"HTTP/1.1 200 OK\"\n"
     ]
    },
    {
     "name": "stdout",
     "output_type": "stream",
     "text": [
      "⏱️ Time: 7.53s\n",
      "\n",
      "🦙 TinyLlama [Question 34]\n"
     ]
    },
    {
     "name": "stderr",
     "output_type": "stream",
     "text": [
      "2024-12-01 12:15:34,898 - INFO - HTTP Request: POST http://127.0.0.1:11434/api/generate \"HTTP/1.1 200 OK\"\n"
     ]
    },
    {
     "name": "stdout",
     "output_type": "stream",
     "text": [
      "⏱️ Time: 14.24s\n",
      "\n",
      "📊 Evaluating responses...\n",
      "\n",
      "Detailed Scores for Question 34:\n",
      "\n",
      "GPT-4:\n",
      "correctness: 1.00\n",
      "mathematical_reasoning: 0.60\n",
      "solution_completeness: 0.33\n",
      "explanation_quality: 0.50\n",
      "coherence: 0.20\n",
      "time_efficiency: 0.90\n",
      "Final Score: 0.70\n",
      "\n",
      "TinyLlama:\n",
      "correctness: 1.00\n",
      "mathematical_reasoning: 0.00\n",
      "solution_completeness: 0.04\n",
      "explanation_quality: 0.00\n",
      "coherence: 0.00\n",
      "time_efficiency: 0.70\n",
      "Final Score: 0.44\n",
      "\n",
      "Progress: 34/60 questions completed (56.7%)\n",
      "\n",
      "============================================================\n",
      "📝 Question 35/60\n",
      "Subject: Elementary Mathematics\n",
      "Question: In which situation can the expression 64 + 8 be used?\n",
      "\n",
      "🤖 GPT-4 [Question 35]\n"
     ]
    },
    {
     "name": "stderr",
     "output_type": "stream",
     "text": [
      "2024-12-01 12:15:43,698 - INFO - HTTP Request: POST https://access-01.openai.azure.com/openai/deployments/gpt-4o/chat/completions?api-version=2024-08-01-preview \"HTTP/1.1 200 OK\"\n"
     ]
    },
    {
     "name": "stdout",
     "output_type": "stream",
     "text": [
      "⏱️ Time: 8.80s\n",
      "\n",
      "🦙 TinyLlama [Question 35]\n"
     ]
    },
    {
     "name": "stderr",
     "output_type": "stream",
     "text": [
      "2024-12-01 12:15:56,170 - INFO - HTTP Request: POST http://127.0.0.1:11434/api/generate \"HTTP/1.1 200 OK\"\n"
     ]
    },
    {
     "name": "stdout",
     "output_type": "stream",
     "text": [
      "⏱️ Time: 12.46s\n",
      "\n",
      "📊 Evaluating responses...\n",
      "\n",
      "Detailed Scores for Question 35:\n",
      "\n",
      "GPT-4:\n",
      "correctness: 0.00\n",
      "mathematical_reasoning: 0.50\n",
      "solution_completeness: 0.15\n",
      "explanation_quality: 0.43\n",
      "coherence: 0.35\n",
      "time_efficiency: 0.90\n",
      "Final Score: 0.25\n",
      "\n",
      "TinyLlama:\n",
      "correctness: 0.00\n",
      "mathematical_reasoning: 0.10\n",
      "solution_completeness: 0.04\n",
      "explanation_quality: 0.10\n",
      "coherence: 0.00\n",
      "time_efficiency: 0.70\n",
      "Final Score: 0.08\n",
      "\n",
      "💾 Saving intermediate results...\n",
      "\n",
      "Progress: 35/60 questions completed (58.3%)\n",
      "\n",
      "============================================================\n",
      "📝 Question 36/60\n",
      "Subject: Elementary Mathematics\n",
      "Question: Use the equation below to answer the question. 0.75 6.5 = m Which expression shows one way to solve the equation?\n",
      "\n",
      "🤖 GPT-4 [Question 36]\n"
     ]
    },
    {
     "name": "stderr",
     "output_type": "stream",
     "text": [
      "2024-12-01 12:16:06,073 - INFO - HTTP Request: POST https://access-01.openai.azure.com/openai/deployments/gpt-4o/chat/completions?api-version=2024-08-01-preview \"HTTP/1.1 200 OK\"\n"
     ]
    },
    {
     "name": "stdout",
     "output_type": "stream",
     "text": [
      "⏱️ Time: 9.88s\n",
      "\n",
      "🦙 TinyLlama [Question 36]\n"
     ]
    },
    {
     "name": "stderr",
     "output_type": "stream",
     "text": [
      "2024-12-01 12:16:18,845 - INFO - HTTP Request: POST http://127.0.0.1:11434/api/generate \"HTTP/1.1 200 OK\"\n"
     ]
    },
    {
     "name": "stdout",
     "output_type": "stream",
     "text": [
      "⏱️ Time: 12.77s\n",
      "\n",
      "📊 Evaluating responses...\n",
      "\n",
      "Detailed Scores for Question 36:\n",
      "\n",
      "GPT-4:\n",
      "correctness: 0.00\n",
      "mathematical_reasoning: 0.80\n",
      "solution_completeness: 0.45\n",
      "explanation_quality: 0.43\n",
      "coherence: 0.38\n",
      "time_efficiency: 0.90\n",
      "Final Score: 0.37\n",
      "\n",
      "TinyLlama:\n",
      "correctness: 1.00\n",
      "mathematical_reasoning: 0.00\n",
      "solution_completeness: 0.00\n",
      "explanation_quality: 0.00\n",
      "coherence: 0.00\n",
      "time_efficiency: 0.70\n",
      "Final Score: 0.43\n",
      "\n",
      "Progress: 36/60 questions completed (60.0%)\n",
      "\n",
      "============================================================\n",
      "📝 Question 37/60\n",
      "Subject: Elementary Mathematics\n",
      "Question: George has $23 to spend on art supplies. He wants to buy markers, paper, and glue. If the total cost of the markers and paper is more than $14, which inequality represents the dollar amount, p, George can spend on glue?\n",
      "\n",
      "🤖 GPT-4 [Question 37]\n"
     ]
    },
    {
     "name": "stderr",
     "output_type": "stream",
     "text": [
      "2024-12-01 12:16:25,337 - INFO - HTTP Request: POST https://access-01.openai.azure.com/openai/deployments/gpt-4o/chat/completions?api-version=2024-08-01-preview \"HTTP/1.1 200 OK\"\n"
     ]
    },
    {
     "name": "stdout",
     "output_type": "stream",
     "text": [
      "⏱️ Time: 6.49s\n",
      "\n",
      "🦙 TinyLlama [Question 37]\n"
     ]
    },
    {
     "name": "stderr",
     "output_type": "stream",
     "text": [
      "2024-12-01 12:16:36,551 - INFO - HTTP Request: POST http://127.0.0.1:11434/api/generate \"HTTP/1.1 200 OK\"\n"
     ]
    },
    {
     "name": "stdout",
     "output_type": "stream",
     "text": [
      "⏱️ Time: 11.21s\n",
      "\n",
      "📊 Evaluating responses...\n",
      "\n",
      "Detailed Scores for Question 37:\n",
      "\n",
      "GPT-4:\n",
      "correctness: 1.00\n",
      "mathematical_reasoning: 0.60\n",
      "solution_completeness: 0.50\n",
      "explanation_quality: 0.43\n",
      "coherence: 0.28\n",
      "time_efficiency: 0.90\n",
      "Final Score: 0.73\n",
      "\n",
      "TinyLlama:\n",
      "correctness: 1.00\n",
      "mathematical_reasoning: 0.00\n",
      "solution_completeness: 0.00\n",
      "explanation_quality: 0.00\n",
      "coherence: 0.00\n",
      "time_efficiency: 0.70\n",
      "Final Score: 0.43\n",
      "\n",
      "Progress: 37/60 questions completed (61.7%)\n",
      "\n",
      "============================================================\n",
      "📝 Question 38/60\n",
      "Subject: Elementary Mathematics\n",
      "Question: Solve for y. y 2 + 3y = 10\n",
      "\n",
      "🤖 GPT-4 [Question 38]\n"
     ]
    },
    {
     "name": "stderr",
     "output_type": "stream",
     "text": [
      "2024-12-01 12:16:40,224 - INFO - HTTP Request: POST https://access-01.openai.azure.com/openai/deployments/gpt-4o/chat/completions?api-version=2024-08-01-preview \"HTTP/1.1 200 OK\"\n"
     ]
    },
    {
     "name": "stdout",
     "output_type": "stream",
     "text": [
      "⏱️ Time: 3.67s\n",
      "\n",
      "🦙 TinyLlama [Question 38]\n"
     ]
    },
    {
     "name": "stderr",
     "output_type": "stream",
     "text": [
      "2024-12-01 12:16:49,827 - INFO - HTTP Request: POST http://127.0.0.1:11434/api/generate \"HTTP/1.1 200 OK\"\n"
     ]
    },
    {
     "name": "stdout",
     "output_type": "stream",
     "text": [
      "⏱️ Time: 9.60s\n",
      "\n",
      "📊 Evaluating responses...\n",
      "\n",
      "Detailed Scores for Question 38:\n",
      "\n",
      "GPT-4:\n",
      "correctness: 0.00\n",
      "mathematical_reasoning: 0.80\n",
      "solution_completeness: 0.45\n",
      "explanation_quality: 0.50\n",
      "coherence: 0.30\n",
      "time_efficiency: 0.90\n",
      "Final Score: 0.38\n",
      "\n",
      "TinyLlama:\n",
      "correctness: 0.00\n",
      "mathematical_reasoning: 0.00\n",
      "solution_completeness: 0.00\n",
      "explanation_quality: 0.00\n",
      "coherence: 0.00\n",
      "time_efficiency: 0.90\n",
      "Final Score: 0.05\n",
      "\n",
      "Progress: 38/60 questions completed (63.3%)\n",
      "\n",
      "============================================================\n",
      "📝 Question 39/60\n",
      "Subject: Elementary Mathematics\n",
      "Question: Wendy bought 30 packs of gum. Each pack had 5 pieces. She multiplied 30 5 to find the number of pieces of gum she bought. How many pieces of gum did Wendy buy?\n",
      "\n",
      "🤖 GPT-4 [Question 39]\n"
     ]
    },
    {
     "name": "stderr",
     "output_type": "stream",
     "text": [
      "2024-12-01 12:16:54,565 - INFO - HTTP Request: POST https://access-01.openai.azure.com/openai/deployments/gpt-4o/chat/completions?api-version=2024-08-01-preview \"HTTP/1.1 200 OK\"\n"
     ]
    },
    {
     "name": "stdout",
     "output_type": "stream",
     "text": [
      "⏱️ Time: 4.74s\n",
      "\n",
      "🦙 TinyLlama [Question 39]\n"
     ]
    },
    {
     "name": "stderr",
     "output_type": "stream",
     "text": [
      "2024-12-01 12:17:39,675 - INFO - HTTP Request: POST http://127.0.0.1:11434/api/generate \"HTTP/1.1 200 OK\"\n"
     ]
    },
    {
     "name": "stdout",
     "output_type": "stream",
     "text": [
      "⏱️ Time: 45.11s\n",
      "\n",
      "📊 Evaluating responses...\n",
      "\n",
      "Detailed Scores for Question 39:\n",
      "\n",
      "GPT-4:\n",
      "correctness: 1.00\n",
      "mathematical_reasoning: 0.35\n",
      "solution_completeness: 0.20\n",
      "explanation_quality: 0.43\n",
      "coherence: 0.20\n",
      "time_efficiency: 0.90\n",
      "Final Score: 0.62\n",
      "\n",
      "TinyLlama:\n",
      "correctness: 0.00\n",
      "mathematical_reasoning: 0.25\n",
      "solution_completeness: 0.42\n",
      "explanation_quality: 0.25\n",
      "coherence: 0.55\n",
      "time_efficiency: 0.10\n",
      "Final Score: 0.18\n",
      "\n",
      "Progress: 39/60 questions completed (65.0%)\n",
      "\n",
      "============================================================\n",
      "📝 Question 40/60\n",
      "Subject: Elementary Mathematics\n",
      "Question: The expression 105 + (14) + 34 simplifies to which of the following?\n",
      "\n",
      "🤖 GPT-4 [Question 40]\n"
     ]
    },
    {
     "name": "stderr",
     "output_type": "stream",
     "text": [
      "2024-12-01 12:17:45,496 - INFO - HTTP Request: POST https://access-01.openai.azure.com/openai/deployments/gpt-4o/chat/completions?api-version=2024-08-01-preview \"HTTP/1.1 200 OK\"\n"
     ]
    },
    {
     "name": "stdout",
     "output_type": "stream",
     "text": [
      "⏱️ Time: 5.82s\n",
      "\n",
      "🦙 TinyLlama [Question 40]\n"
     ]
    },
    {
     "name": "stderr",
     "output_type": "stream",
     "text": [
      "2024-12-01 12:17:55,076 - INFO - HTTP Request: POST http://127.0.0.1:11434/api/generate \"HTTP/1.1 200 OK\"\n"
     ]
    },
    {
     "name": "stdout",
     "output_type": "stream",
     "text": [
      "⏱️ Time: 9.57s\n",
      "\n",
      "📊 Evaluating responses...\n",
      "\n",
      "Detailed Scores for Question 40:\n",
      "\n",
      "GPT-4:\n",
      "correctness: 0.00\n",
      "mathematical_reasoning: 0.80\n",
      "solution_completeness: 0.65\n",
      "explanation_quality: 0.70\n",
      "coherence: 0.55\n",
      "time_efficiency: 0.90\n",
      "Final Score: 0.44\n",
      "\n",
      "TinyLlama:\n",
      "correctness: 0.00\n",
      "mathematical_reasoning: 0.00\n",
      "solution_completeness: 0.00\n",
      "explanation_quality: 0.00\n",
      "coherence: 0.00\n",
      "time_efficiency: 0.90\n",
      "Final Score: 0.05\n",
      "\n",
      "💾 Saving intermediate results...\n",
      "\n",
      "Progress: 40/60 questions completed (66.7%)\n",
      "\n",
      "============================================================\n",
      "📝 Question 41/60\n",
      "Subject: Elementary Mathematics\n",
      "Question: Debnil has 6 teaspoons of salt. The ratio of teaspoons to tablespoons is 3 : 1. How many tablespoons of salt does Debnil have?\n",
      "\n",
      "🤖 GPT-4 [Question 41]\n"
     ]
    },
    {
     "name": "stderr",
     "output_type": "stream",
     "text": [
      "2024-12-01 12:17:59,105 - INFO - HTTP Request: POST https://access-01.openai.azure.com/openai/deployments/gpt-4o/chat/completions?api-version=2024-08-01-preview \"HTTP/1.1 200 OK\"\n"
     ]
    },
    {
     "name": "stdout",
     "output_type": "stream",
     "text": [
      "⏱️ Time: 4.02s\n",
      "\n",
      "🦙 TinyLlama [Question 41]\n"
     ]
    },
    {
     "name": "stderr",
     "output_type": "stream",
     "text": [
      "2024-12-01 12:18:11,269 - INFO - HTTP Request: POST http://127.0.0.1:11434/api/generate \"HTTP/1.1 200 OK\"\n"
     ]
    },
    {
     "name": "stdout",
     "output_type": "stream",
     "text": [
      "⏱️ Time: 12.15s\n",
      "\n",
      "📊 Evaluating responses...\n",
      "\n",
      "Detailed Scores for Question 41:\n",
      "\n",
      "GPT-4:\n",
      "correctness: 1.00\n",
      "mathematical_reasoning: 0.60\n",
      "solution_completeness: 0.45\n",
      "explanation_quality: 0.50\n",
      "coherence: 0.00\n",
      "time_efficiency: 0.90\n",
      "Final Score: 0.71\n",
      "\n",
      "TinyLlama:\n",
      "correctness: 0.00\n",
      "mathematical_reasoning: 0.00\n",
      "solution_completeness: 0.05\n",
      "explanation_quality: 0.00\n",
      "coherence: 0.00\n",
      "time_efficiency: 0.70\n",
      "Final Score: 0.04\n",
      "\n",
      "Progress: 41/60 questions completed (68.3%)\n",
      "\n",
      "============================================================\n",
      "📝 Question 42/60\n",
      "Subject: Elementary Mathematics\n",
      "Question: What is the value of |3 + 5| |-4|?\n",
      "\n",
      "🤖 GPT-4 [Question 42]\n"
     ]
    },
    {
     "name": "stderr",
     "output_type": "stream",
     "text": [
      "2024-12-01 12:18:15,965 - INFO - HTTP Request: POST https://access-01.openai.azure.com/openai/deployments/gpt-4o/chat/completions?api-version=2024-08-01-preview \"HTTP/1.1 200 OK\"\n"
     ]
    },
    {
     "name": "stdout",
     "output_type": "stream",
     "text": [
      "⏱️ Time: 4.70s\n",
      "\n",
      "🦙 TinyLlama [Question 42]\n"
     ]
    },
    {
     "name": "stderr",
     "output_type": "stream",
     "text": [
      "2024-12-01 12:18:26,768 - INFO - HTTP Request: POST http://127.0.0.1:11434/api/generate \"HTTP/1.1 200 OK\"\n"
     ]
    },
    {
     "name": "stdout",
     "output_type": "stream",
     "text": [
      "⏱️ Time: 10.80s\n",
      "\n",
      "📊 Evaluating responses...\n",
      "\n",
      "Detailed Scores for Question 42:\n",
      "\n",
      "GPT-4:\n",
      "correctness: 0.00\n",
      "mathematical_reasoning: 0.70\n",
      "solution_completeness: 0.50\n",
      "explanation_quality: 0.45\n",
      "coherence: 0.48\n",
      "time_efficiency: 0.90\n",
      "Final Score: 0.36\n",
      "\n",
      "TinyLlama:\n",
      "correctness: 0.00\n",
      "mathematical_reasoning: 0.00\n",
      "solution_completeness: 0.04\n",
      "explanation_quality: 0.00\n",
      "coherence: 0.00\n",
      "time_efficiency: 0.70\n",
      "Final Score: 0.04\n",
      "\n",
      "Progress: 42/60 questions completed (70.0%)\n",
      "\n",
      "============================================================\n",
      "📝 Question 43/60\n",
      "Subject: Elementary Mathematics\n",
      "Question: Solve 3 over 2 * w = 66.\n",
      "\n",
      "🤖 GPT-4 [Question 43]\n"
     ]
    },
    {
     "name": "stderr",
     "output_type": "stream",
     "text": [
      "2024-12-01 12:18:31,121 - INFO - HTTP Request: POST https://access-01.openai.azure.com/openai/deployments/gpt-4o/chat/completions?api-version=2024-08-01-preview \"HTTP/1.1 200 OK\"\n"
     ]
    },
    {
     "name": "stdout",
     "output_type": "stream",
     "text": [
      "⏱️ Time: 4.35s\n",
      "\n",
      "🦙 TinyLlama [Question 43]\n"
     ]
    },
    {
     "name": "stderr",
     "output_type": "stream",
     "text": [
      "2024-12-01 12:18:41,351 - INFO - HTTP Request: POST http://127.0.0.1:11434/api/generate \"HTTP/1.1 200 OK\"\n"
     ]
    },
    {
     "name": "stdout",
     "output_type": "stream",
     "text": [
      "⏱️ Time: 10.23s\n",
      "\n",
      "📊 Evaluating responses...\n",
      "\n",
      "Detailed Scores for Question 43:\n",
      "\n",
      "GPT-4:\n",
      "correctness: 1.00\n",
      "mathematical_reasoning: 0.80\n",
      "solution_completeness: 0.17\n",
      "explanation_quality: 0.32\n",
      "coherence: 0.17\n",
      "time_efficiency: 0.90\n",
      "Final Score: 0.78\n",
      "\n",
      "TinyLlama:\n",
      "correctness: 0.00\n",
      "mathematical_reasoning: 0.00\n",
      "solution_completeness: 0.00\n",
      "explanation_quality: 0.00\n",
      "coherence: 0.00\n",
      "time_efficiency: 0.70\n",
      "Final Score: 0.03\n",
      "\n",
      "Progress: 43/60 questions completed (71.7%)\n",
      "\n",
      "============================================================\n",
      "📝 Question 44/60\n",
      "Subject: Elementary Mathematics\n",
      "Question: Celia has a large container in which four different kinds of coins are thoroughly mixed. She wants to take a sample of her coins to estimate which kind of coin she has the most. Which of the following methods is the best way for her to select a sample?\n",
      "\n",
      "🤖 GPT-4 [Question 44]\n"
     ]
    },
    {
     "name": "stderr",
     "output_type": "stream",
     "text": [
      "2024-12-01 12:18:46,024 - INFO - HTTP Request: POST https://access-01.openai.azure.com/openai/deployments/gpt-4o/chat/completions?api-version=2024-08-01-preview \"HTTP/1.1 200 OK\"\n"
     ]
    },
    {
     "name": "stdout",
     "output_type": "stream",
     "text": [
      "⏱️ Time: 4.67s\n",
      "\n",
      "🦙 TinyLlama [Question 44]\n"
     ]
    },
    {
     "name": "stderr",
     "output_type": "stream",
     "text": [
      "2024-12-01 12:19:05,374 - INFO - HTTP Request: POST http://127.0.0.1:11434/api/generate \"HTTP/1.1 200 OK\"\n"
     ]
    },
    {
     "name": "stdout",
     "output_type": "stream",
     "text": [
      "⏱️ Time: 19.35s\n",
      "\n",
      "📊 Evaluating responses...\n",
      "\n",
      "Detailed Scores for Question 44:\n",
      "\n",
      "GPT-4:\n",
      "correctness: 1.00\n",
      "mathematical_reasoning: 0.20\n",
      "solution_completeness: 0.25\n",
      "explanation_quality: 0.43\n",
      "coherence: 0.10\n",
      "time_efficiency: 0.90\n",
      "Final Score: 0.58\n",
      "\n",
      "TinyLlama:\n",
      "correctness: 0.00\n",
      "mathematical_reasoning: 0.00\n",
      "solution_completeness: 0.04\n",
      "explanation_quality: 0.10\n",
      "coherence: 0.00\n",
      "time_efficiency: 0.70\n",
      "Final Score: 0.05\n",
      "\n",
      "Progress: 44/60 questions completed (73.3%)\n",
      "\n",
      "============================================================\n",
      "📝 Question 45/60\n",
      "Subject: Elementary Mathematics\n",
      "Question: Colton and his dad bought a gallon of paint that cost $13. They also bought 2 brushes that cost $9 each. What was the total cost, not including tax, of the brushes and the paint they bought?\n",
      "\n",
      "🤖 GPT-4 [Question 45]\n"
     ]
    },
    {
     "name": "stderr",
     "output_type": "stream",
     "text": [
      "2024-12-01 12:19:09,040 - INFO - HTTP Request: POST https://access-01.openai.azure.com/openai/deployments/gpt-4o/chat/completions?api-version=2024-08-01-preview \"HTTP/1.1 200 OK\"\n"
     ]
    },
    {
     "name": "stdout",
     "output_type": "stream",
     "text": [
      "⏱️ Time: 3.67s\n",
      "\n",
      "🦙 TinyLlama [Question 45]\n"
     ]
    },
    {
     "name": "stderr",
     "output_type": "stream",
     "text": [
      "2024-12-01 12:19:24,970 - INFO - HTTP Request: POST http://127.0.0.1:11434/api/generate \"HTTP/1.1 200 OK\"\n"
     ]
    },
    {
     "name": "stdout",
     "output_type": "stream",
     "text": [
      "⏱️ Time: 15.92s\n",
      "\n",
      "📊 Evaluating responses...\n",
      "\n",
      "Detailed Scores for Question 45:\n",
      "\n",
      "GPT-4:\n",
      "correctness: 1.00\n",
      "mathematical_reasoning: 0.70\n",
      "solution_completeness: 0.15\n",
      "explanation_quality: 0.35\n",
      "coherence: 0.20\n",
      "time_efficiency: 0.90\n",
      "Final Score: 0.69\n",
      "\n",
      "TinyLlama:\n",
      "correctness: 0.00\n",
      "mathematical_reasoning: 0.20\n",
      "solution_completeness: 0.05\n",
      "explanation_quality: 0.20\n",
      "coherence: 0.00\n",
      "time_efficiency: 0.70\n",
      "Final Score: 0.11\n",
      "\n",
      "💾 Saving intermediate results...\n",
      "\n",
      "Progress: 45/60 questions completed (75.0%)\n",
      "\n",
      "============================================================\n",
      "📝 Question 46/60\n",
      "Subject: High School Mathematics\n",
      "Question: Joe's batting average is .323. (That is, he averages 0.323 hits per at bat.) What is the probability that he will get three hits in three at-bats? Express your answer as a decimal to the nearest hundredth.\n",
      "\n",
      "🤖 GPT-4 [Question 46]\n"
     ]
    },
    {
     "name": "stderr",
     "output_type": "stream",
     "text": [
      "2024-12-01 12:19:31,243 - INFO - HTTP Request: POST https://access-01.openai.azure.com/openai/deployments/gpt-4o/chat/completions?api-version=2024-08-01-preview \"HTTP/1.1 200 OK\"\n"
     ]
    },
    {
     "name": "stdout",
     "output_type": "stream",
     "text": [
      "⏱️ Time: 6.25s\n",
      "\n",
      "🦙 TinyLlama [Question 46]\n"
     ]
    },
    {
     "name": "stderr",
     "output_type": "stream",
     "text": [
      "2024-12-01 12:19:45,670 - INFO - HTTP Request: POST http://127.0.0.1:11434/api/generate \"HTTP/1.1 200 OK\"\n"
     ]
    },
    {
     "name": "stdout",
     "output_type": "stream",
     "text": [
      "⏱️ Time: 14.42s\n",
      "\n",
      "📊 Evaluating responses...\n",
      "\n",
      "Detailed Scores for Question 46:\n",
      "\n",
      "GPT-4:\n",
      "correctness: 1.00\n",
      "mathematical_reasoning: 0.80\n",
      "solution_completeness: 0.20\n",
      "explanation_quality: 0.43\n",
      "coherence: 0.20\n",
      "time_efficiency: 0.90\n",
      "Final Score: 0.80\n",
      "\n",
      "TinyLlama:\n",
      "correctness: 1.00\n",
      "mathematical_reasoning: 0.10\n",
      "solution_completeness: 0.04\n",
      "explanation_quality: 0.07\n",
      "coherence: 0.00\n",
      "time_efficiency: 0.70\n",
      "Final Score: 0.47\n",
      "\n",
      "Progress: 46/60 questions completed (76.7%)\n",
      "\n",
      "============================================================\n",
      "📝 Question 47/60\n",
      "Subject: High School Mathematics\n",
      "Question: Andy wants to read several books from the required summer reading list. He must read one each from fiction, nonfiction, science, and history. There are 15 fiction, 12 nonfiction, 5 science, and 21 history books listed. How many different summer reading programs could he select?\n",
      "\n",
      "🤖 GPT-4 [Question 47]\n"
     ]
    },
    {
     "name": "stderr",
     "output_type": "stream",
     "text": [
      "2024-12-01 12:19:49,938 - INFO - HTTP Request: POST https://access-01.openai.azure.com/openai/deployments/gpt-4o/chat/completions?api-version=2024-08-01-preview \"HTTP/1.1 200 OK\"\n"
     ]
    },
    {
     "name": "stdout",
     "output_type": "stream",
     "text": [
      "⏱️ Time: 4.27s\n",
      "\n",
      "🦙 TinyLlama [Question 47]\n"
     ]
    },
    {
     "name": "stderr",
     "output_type": "stream",
     "text": [
      "2024-12-01 12:20:01,436 - INFO - HTTP Request: POST http://127.0.0.1:11434/api/generate \"HTTP/1.1 200 OK\"\n"
     ]
    },
    {
     "name": "stdout",
     "output_type": "stream",
     "text": [
      "⏱️ Time: 11.49s\n",
      "\n",
      "📊 Evaluating responses...\n",
      "\n",
      "Detailed Scores for Question 47:\n",
      "\n",
      "GPT-4:\n",
      "correctness: 1.00\n",
      "mathematical_reasoning: 0.50\n",
      "solution_completeness: 0.45\n",
      "explanation_quality: 0.32\n",
      "coherence: 0.38\n",
      "time_efficiency: 0.90\n",
      "Final Score: 0.69\n",
      "\n",
      "TinyLlama:\n",
      "correctness: 0.00\n",
      "mathematical_reasoning: 0.00\n",
      "solution_completeness: 0.00\n",
      "explanation_quality: 0.00\n",
      "coherence: 0.00\n",
      "time_efficiency: 0.70\n",
      "Final Score: 0.03\n",
      "\n",
      "Progress: 47/60 questions completed (78.3%)\n",
      "\n",
      "============================================================\n",
      "📝 Question 48/60\n",
      "Subject: High School Mathematics\n",
      "Question: Let $f(x) = (x+2)^2-5$. If the domain of $f$ is all real numbers, then $f$ does not have an inverse function, but if we restrict the domain of $f$ to an interval $[c,\\infty)$, then $f$ may have an inverse function. What is the smallest value of $c$ we can use here, so that $f$ does have an inverse function?\n",
      "\n",
      "🤖 GPT-4 [Question 48]\n"
     ]
    },
    {
     "name": "stderr",
     "output_type": "stream",
     "text": [
      "2024-12-01 12:20:09,146 - INFO - HTTP Request: POST https://access-01.openai.azure.com/openai/deployments/gpt-4o/chat/completions?api-version=2024-08-01-preview \"HTTP/1.1 200 OK\"\n"
     ]
    },
    {
     "name": "stdout",
     "output_type": "stream",
     "text": [
      "⏱️ Time: 7.71s\n",
      "\n",
      "🦙 TinyLlama [Question 48]\n"
     ]
    },
    {
     "name": "stderr",
     "output_type": "stream",
     "text": [
      "2024-12-01 12:20:29,175 - INFO - HTTP Request: POST http://127.0.0.1:11434/api/generate \"HTTP/1.1 200 OK\"\n"
     ]
    },
    {
     "name": "stdout",
     "output_type": "stream",
     "text": [
      "⏱️ Time: 20.02s\n",
      "\n",
      "📊 Evaluating responses...\n",
      "\n",
      "Detailed Scores for Question 48:\n",
      "\n",
      "GPT-4:\n",
      "correctness: 1.00\n",
      "mathematical_reasoning: 0.80\n",
      "solution_completeness: 0.43\n",
      "explanation_quality: 0.50\n",
      "coherence: 0.28\n",
      "time_efficiency: 0.90\n",
      "Final Score: 0.85\n",
      "\n",
      "TinyLlama:\n",
      "correctness: 1.00\n",
      "mathematical_reasoning: 0.10\n",
      "solution_completeness: 0.05\n",
      "explanation_quality: 0.28\n",
      "coherence: 0.28\n",
      "time_efficiency: 0.50\n",
      "Final Score: 0.50\n",
      "\n",
      "Progress: 48/60 questions completed (80.0%)\n",
      "\n",
      "============================================================\n",
      "📝 Question 49/60\n",
      "Subject: High School Mathematics\n",
      "Question: Alex grows an initial culture of 100 Rhizopus stolonifer fungi on a sample of bread. She wants to model the growth of the fungi according to the exponential equation A = Pe^(rt), where A is the final number of fungi, P is the initial number, r is the growth rate, and t is time elapsed in hours. If after 5 hours she measures the number of fungi to be 750, what is the value of r?\n",
      "\n",
      "🤖 GPT-4 [Question 49]\n"
     ]
    },
    {
     "name": "stderr",
     "output_type": "stream",
     "text": [
      "2024-12-01 12:20:39,758 - INFO - HTTP Request: POST https://access-01.openai.azure.com/openai/deployments/gpt-4o/chat/completions?api-version=2024-08-01-preview \"HTTP/1.1 200 OK\"\n"
     ]
    },
    {
     "name": "stdout",
     "output_type": "stream",
     "text": [
      "⏱️ Time: 10.58s\n",
      "\n",
      "🦙 TinyLlama [Question 49]\n"
     ]
    },
    {
     "name": "stderr",
     "output_type": "stream",
     "text": [
      "2024-12-01 12:20:59,608 - INFO - HTTP Request: POST http://127.0.0.1:11434/api/generate \"HTTP/1.1 200 OK\"\n"
     ]
    },
    {
     "name": "stdout",
     "output_type": "stream",
     "text": [
      "⏱️ Time: 19.85s\n",
      "\n",
      "📊 Evaluating responses...\n",
      "\n",
      "Detailed Scores for Question 49:\n",
      "\n",
      "GPT-4:\n",
      "correctness: 1.00\n",
      "mathematical_reasoning: 0.80\n",
      "solution_completeness: 0.35\n",
      "explanation_quality: 0.23\n",
      "coherence: 0.10\n",
      "time_efficiency: 0.70\n",
      "Final Score: 0.79\n",
      "\n",
      "TinyLlama:\n",
      "correctness: 1.00\n",
      "mathematical_reasoning: 0.20\n",
      "solution_completeness: 0.07\n",
      "explanation_quality: 0.17\n",
      "coherence: 0.00\n",
      "time_efficiency: 0.70\n",
      "Final Score: 0.51\n",
      "\n",
      "Progress: 49/60 questions completed (81.7%)\n",
      "\n",
      "============================================================\n",
      "📝 Question 50/60\n",
      "Subject: High School Mathematics\n",
      "Question: Simplify $\\frac{2+2i}{-3+4i}$. Express your answer as a complex number in the form $a+bi$, where $a$ and $b$ are real numbers.\n",
      "\n",
      "🤖 GPT-4 [Question 50]\n"
     ]
    },
    {
     "name": "stderr",
     "output_type": "stream",
     "text": [
      "2024-12-01 12:21:07,804 - INFO - HTTP Request: POST https://access-01.openai.azure.com/openai/deployments/gpt-4o/chat/completions?api-version=2024-08-01-preview \"HTTP/1.1 200 OK\"\n"
     ]
    },
    {
     "name": "stdout",
     "output_type": "stream",
     "text": [
      "⏱️ Time: 8.19s\n",
      "\n",
      "🦙 TinyLlama [Question 50]\n"
     ]
    },
    {
     "name": "stderr",
     "output_type": "stream",
     "text": [
      "2024-12-01 12:21:25,453 - INFO - HTTP Request: POST http://127.0.0.1:11434/api/generate \"HTTP/1.1 200 OK\"\n"
     ]
    },
    {
     "name": "stdout",
     "output_type": "stream",
     "text": [
      "⏱️ Time: 17.64s\n",
      "\n",
      "📊 Evaluating responses...\n",
      "\n",
      "Detailed Scores for Question 50:\n",
      "\n",
      "GPT-4:\n",
      "correctness: 1.00\n",
      "mathematical_reasoning: 0.70\n",
      "solution_completeness: 0.47\n",
      "explanation_quality: 0.15\n",
      "coherence: 0.20\n",
      "time_efficiency: 0.90\n",
      "Final Score: 0.72\n",
      "\n",
      "TinyLlama:\n",
      "correctness: 0.00\n",
      "mathematical_reasoning: 0.00\n",
      "solution_completeness: 0.04\n",
      "explanation_quality: 0.20\n",
      "coherence: 0.00\n",
      "time_efficiency: 0.70\n",
      "Final Score: 0.06\n",
      "\n",
      "💾 Saving intermediate results...\n",
      "\n",
      "Progress: 50/60 questions completed (83.3%)\n",
      "\n",
      "============================================================\n",
      "📝 Question 51/60\n",
      "Subject: High School Mathematics\n",
      "Question: What is the minimum value of $a^2+6a-7$?\n",
      "\n",
      "🤖 GPT-4 [Question 51]\n"
     ]
    },
    {
     "name": "stderr",
     "output_type": "stream",
     "text": [
      "2024-12-01 12:21:30,500 - INFO - HTTP Request: POST https://access-01.openai.azure.com/openai/deployments/gpt-4o/chat/completions?api-version=2024-08-01-preview \"HTTP/1.1 200 OK\"\n"
     ]
    },
    {
     "name": "stdout",
     "output_type": "stream",
     "text": [
      "⏱️ Time: 5.03s\n",
      "\n",
      "🦙 TinyLlama [Question 51]\n"
     ]
    },
    {
     "name": "stderr",
     "output_type": "stream",
     "text": [
      "2024-12-01 12:21:47,452 - INFO - HTTP Request: POST http://127.0.0.1:11434/api/generate \"HTTP/1.1 200 OK\"\n"
     ]
    },
    {
     "name": "stdout",
     "output_type": "stream",
     "text": [
      "⏱️ Time: 16.95s\n",
      "\n",
      "📊 Evaluating responses...\n",
      "\n",
      "Detailed Scores for Question 51:\n",
      "\n",
      "GPT-4:\n",
      "correctness: 1.00\n",
      "mathematical_reasoning: 0.93\n",
      "solution_completeness: 0.73\n",
      "explanation_quality: 0.43\n",
      "coherence: 0.58\n",
      "time_efficiency: 0.90\n",
      "Final Score: 0.94\n",
      "\n",
      "TinyLlama:\n",
      "correctness: 0.00\n",
      "mathematical_reasoning: 0.35\n",
      "solution_completeness: 0.04\n",
      "explanation_quality: 0.17\n",
      "coherence: 0.30\n",
      "time_efficiency: 0.70\n",
      "Final Score: 0.16\n",
      "\n",
      "Progress: 51/60 questions completed (85.0%)\n",
      "\n",
      "============================================================\n",
      "📝 Question 52/60\n",
      "Subject: High School Mathematics\n",
      "Question: Let $f(x) = (x+2)^2-5$. If the domain of $f$ is all real numbers, then $f$ does not have an inverse function, but if we restrict the domain of $f$ to an interval $[c,\\infty)$, then $f$ may have an inverse function. What is the smallest value of $c$ we can use here, so that $f$ does have an inverse function?\n",
      "\n",
      "🤖 GPT-4 [Question 52]\n"
     ]
    },
    {
     "name": "stderr",
     "output_type": "stream",
     "text": [
      "2024-12-01 12:21:57,219 - INFO - HTTP Request: POST https://access-01.openai.azure.com/openai/deployments/gpt-4o/chat/completions?api-version=2024-08-01-preview \"HTTP/1.1 200 OK\"\n"
     ]
    },
    {
     "name": "stdout",
     "output_type": "stream",
     "text": [
      "⏱️ Time: 9.76s\n",
      "\n",
      "🦙 TinyLlama [Question 52]\n"
     ]
    },
    {
     "name": "stderr",
     "output_type": "stream",
     "text": [
      "2024-12-01 12:22:11,988 - INFO - HTTP Request: POST http://127.0.0.1:11434/api/generate \"HTTP/1.1 200 OK\"\n"
     ]
    },
    {
     "name": "stdout",
     "output_type": "stream",
     "text": [
      "⏱️ Time: 14.76s\n",
      "\n",
      "📊 Evaluating responses...\n",
      "\n",
      "Detailed Scores for Question 52:\n",
      "\n",
      "GPT-4:\n",
      "correctness: 1.00\n",
      "mathematical_reasoning: 0.80\n",
      "solution_completeness: 0.30\n",
      "explanation_quality: 0.35\n",
      "coherence: 0.20\n",
      "time_efficiency: 0.90\n",
      "Final Score: 0.81\n",
      "\n",
      "TinyLlama:\n",
      "correctness: 1.00\n",
      "mathematical_reasoning: 0.10\n",
      "solution_completeness: 0.04\n",
      "explanation_quality: 0.00\n",
      "coherence: 0.00\n",
      "time_efficiency: 0.70\n",
      "Final Score: 0.47\n",
      "\n",
      "Progress: 52/60 questions completed (86.7%)\n",
      "\n",
      "============================================================\n",
      "📝 Question 53/60\n",
      "Subject: High School Mathematics\n",
      "Question: How many square units are in the region satisfying the inequalities $y \\ge |x|$ and $y \\le -|x|+3$? Express your answer as a decimal.\n",
      "\n",
      "🤖 GPT-4 [Question 53]\n"
     ]
    },
    {
     "name": "stderr",
     "output_type": "stream",
     "text": [
      "2024-12-01 12:22:22,121 - INFO - HTTP Request: POST https://access-01.openai.azure.com/openai/deployments/gpt-4o/chat/completions?api-version=2024-08-01-preview \"HTTP/1.1 200 OK\"\n"
     ]
    },
    {
     "name": "stdout",
     "output_type": "stream",
     "text": [
      "⏱️ Time: 10.13s\n",
      "\n",
      "🦙 TinyLlama [Question 53]\n"
     ]
    },
    {
     "name": "stderr",
     "output_type": "stream",
     "text": [
      "2024-12-01 12:22:33,381 - INFO - HTTP Request: POST http://127.0.0.1:11434/api/generate \"HTTP/1.1 200 OK\"\n"
     ]
    },
    {
     "name": "stdout",
     "output_type": "stream",
     "text": [
      "⏱️ Time: 11.25s\n",
      "\n",
      "📊 Evaluating responses...\n",
      "\n",
      "Detailed Scores for Question 53:\n",
      "\n",
      "GPT-4:\n",
      "correctness: 0.00\n",
      "mathematical_reasoning: 0.80\n",
      "solution_completeness: 0.40\n",
      "explanation_quality: 0.43\n",
      "coherence: 0.20\n",
      "time_efficiency: 0.70\n",
      "Final Score: 0.35\n",
      "\n",
      "TinyLlama:\n",
      "correctness: 1.00\n",
      "mathematical_reasoning: 0.00\n",
      "solution_completeness: 0.00\n",
      "explanation_quality: 0.00\n",
      "coherence: 0.00\n",
      "time_efficiency: 0.70\n",
      "Final Score: 0.43\n",
      "\n",
      "Progress: 53/60 questions completed (88.3%)\n",
      "\n",
      "============================================================\n",
      "📝 Question 54/60\n",
      "Subject: High School Mathematics\n",
      "Question: What is the product of the greatest even prime number and the least odd prime number?\n",
      "\n",
      "🤖 GPT-4 [Question 54]\n"
     ]
    },
    {
     "name": "stderr",
     "output_type": "stream",
     "text": [
      "2024-12-01 12:22:37,411 - INFO - HTTP Request: POST https://access-01.openai.azure.com/openai/deployments/gpt-4o/chat/completions?api-version=2024-08-01-preview \"HTTP/1.1 200 OK\"\n"
     ]
    },
    {
     "name": "stdout",
     "output_type": "stream",
     "text": [
      "⏱️ Time: 4.03s\n",
      "\n",
      "🦙 TinyLlama [Question 54]\n"
     ]
    },
    {
     "name": "stderr",
     "output_type": "stream",
     "text": [
      "2024-12-01 12:23:04,878 - INFO - HTTP Request: POST http://127.0.0.1:11434/api/generate \"HTTP/1.1 200 OK\"\n"
     ]
    },
    {
     "name": "stdout",
     "output_type": "stream",
     "text": [
      "⏱️ Time: 27.46s\n",
      "\n",
      "📊 Evaluating responses...\n",
      "\n",
      "Detailed Scores for Question 54:\n",
      "\n",
      "GPT-4:\n",
      "correctness: 1.00\n",
      "mathematical_reasoning: 0.35\n",
      "solution_completeness: 0.47\n",
      "explanation_quality: 0.43\n",
      "coherence: 0.45\n",
      "time_efficiency: 0.90\n",
      "Final Score: 0.67\n",
      "\n",
      "TinyLlama:\n",
      "correctness: 1.00\n",
      "mathematical_reasoning: 0.10\n",
      "solution_completeness: 0.25\n",
      "explanation_quality: 0.38\n",
      "coherence: 0.20\n",
      "time_efficiency: 0.50\n",
      "Final Score: 0.54\n",
      "\n",
      "Progress: 54/60 questions completed (90.0%)\n",
      "\n",
      "============================================================\n",
      "📝 Question 55/60\n",
      "Subject: High School Mathematics\n",
      "Question: Andy wants to read several books from the required summer reading list. He must read one each from fiction, nonfiction, science, and history. There are 15 fiction, 12 nonfiction, 5 science, and 21 history books listed. How many different summer reading programs could he select?\n",
      "\n",
      "🤖 GPT-4 [Question 55]\n"
     ]
    },
    {
     "name": "stderr",
     "output_type": "stream",
     "text": [
      "2024-12-01 12:23:12,565 - INFO - HTTP Request: POST https://access-01.openai.azure.com/openai/deployments/gpt-4o/chat/completions?api-version=2024-08-01-preview \"HTTP/1.1 200 OK\"\n"
     ]
    },
    {
     "name": "stdout",
     "output_type": "stream",
     "text": [
      "⏱️ Time: 7.69s\n",
      "\n",
      "🦙 TinyLlama [Question 55]\n"
     ]
    },
    {
     "name": "stderr",
     "output_type": "stream",
     "text": [
      "2024-12-01 12:23:24,981 - INFO - HTTP Request: POST http://127.0.0.1:11434/api/generate \"HTTP/1.1 200 OK\"\n"
     ]
    },
    {
     "name": "stdout",
     "output_type": "stream",
     "text": [
      "⏱️ Time: 12.41s\n",
      "\n",
      "📊 Evaluating responses...\n",
      "\n",
      "Detailed Scores for Question 55:\n",
      "\n",
      "GPT-4:\n",
      "correctness: 1.00\n",
      "mathematical_reasoning: 0.50\n",
      "solution_completeness: 0.45\n",
      "explanation_quality: 0.30\n",
      "coherence: 0.38\n",
      "time_efficiency: 0.90\n",
      "Final Score: 0.69\n",
      "\n",
      "TinyLlama:\n",
      "correctness: 0.00\n",
      "mathematical_reasoning: 0.00\n",
      "solution_completeness: 0.00\n",
      "explanation_quality: 0.00\n",
      "coherence: 0.00\n",
      "time_efficiency: 0.70\n",
      "Final Score: 0.03\n",
      "\n",
      "💾 Saving intermediate results...\n",
      "\n",
      "Progress: 55/60 questions completed (91.7%)\n",
      "\n",
      "============================================================\n",
      "📝 Question 56/60\n",
      "Subject: High School Mathematics\n",
      "Question: When $\\sqrt[3]{-128}$ is simplified, the result is $a\\sqrt[3]{b}$, where $a$ is an integer, and $b$ is a positive integer. If $b$ is as small as possible, then what is $a+b$?\n",
      "\n",
      "🤖 GPT-4 [Question 56]\n"
     ]
    },
    {
     "name": "stderr",
     "output_type": "stream",
     "text": [
      "2024-12-01 12:23:31,846 - INFO - HTTP Request: POST https://access-01.openai.azure.com/openai/deployments/gpt-4o/chat/completions?api-version=2024-08-01-preview \"HTTP/1.1 200 OK\"\n"
     ]
    },
    {
     "name": "stdout",
     "output_type": "stream",
     "text": [
      "⏱️ Time: 6.86s\n",
      "\n",
      "🦙 TinyLlama [Question 56]\n"
     ]
    },
    {
     "name": "stderr",
     "output_type": "stream",
     "text": [
      "2024-12-01 12:23:43,481 - INFO - HTTP Request: POST http://127.0.0.1:11434/api/generate \"HTTP/1.1 200 OK\"\n"
     ]
    },
    {
     "name": "stdout",
     "output_type": "stream",
     "text": [
      "⏱️ Time: 11.63s\n",
      "\n",
      "📊 Evaluating responses...\n",
      "\n",
      "Detailed Scores for Question 56:\n",
      "\n",
      "GPT-4:\n",
      "correctness: 1.00\n",
      "mathematical_reasoning: 1.00\n",
      "solution_completeness: 0.53\n",
      "explanation_quality: 0.35\n",
      "coherence: 0.48\n",
      "time_efficiency: 0.90\n",
      "Final Score: 0.92\n",
      "\n",
      "TinyLlama:\n",
      "correctness: 0.00\n",
      "mathematical_reasoning: 0.00\n",
      "solution_completeness: 0.00\n",
      "explanation_quality: 0.00\n",
      "coherence: 0.00\n",
      "time_efficiency: 0.70\n",
      "Final Score: 0.03\n",
      "\n",
      "Progress: 56/60 questions completed (93.3%)\n",
      "\n",
      "============================================================\n",
      "📝 Question 57/60\n",
      "Subject: High School Mathematics\n",
      "Question: When a spaceship full of scientists landed on Planet Q, they found that $\\frac{17}{40}$ of the $160$ aliens had $3$ eyes. How many aliens had $3$ eyes?\n",
      "\n",
      "🤖 GPT-4 [Question 57]\n"
     ]
    },
    {
     "name": "stderr",
     "output_type": "stream",
     "text": [
      "2024-12-01 12:23:47,297 - INFO - HTTP Request: POST https://access-01.openai.azure.com/openai/deployments/gpt-4o/chat/completions?api-version=2024-08-01-preview \"HTTP/1.1 200 OK\"\n"
     ]
    },
    {
     "name": "stdout",
     "output_type": "stream",
     "text": [
      "⏱️ Time: 3.82s\n",
      "\n",
      "🦙 TinyLlama [Question 57]\n"
     ]
    },
    {
     "name": "stderr",
     "output_type": "stream",
     "text": [
      "2024-12-01 12:23:59,303 - INFO - HTTP Request: POST http://127.0.0.1:11434/api/generate \"HTTP/1.1 200 OK\"\n"
     ]
    },
    {
     "name": "stdout",
     "output_type": "stream",
     "text": [
      "⏱️ Time: 12.00s\n",
      "\n",
      "📊 Evaluating responses...\n",
      "\n",
      "Detailed Scores for Question 57:\n",
      "\n",
      "GPT-4:\n",
      "correctness: 1.00\n",
      "mathematical_reasoning: 0.70\n",
      "solution_completeness: 0.50\n",
      "explanation_quality: 0.15\n",
      "coherence: 0.30\n",
      "time_efficiency: 0.90\n",
      "Final Score: 0.80\n",
      "\n",
      "TinyLlama:\n",
      "correctness: 0.00\n",
      "mathematical_reasoning: 0.00\n",
      "solution_completeness: 0.04\n",
      "explanation_quality: 0.00\n",
      "coherence: 0.00\n",
      "time_efficiency: 0.70\n",
      "Final Score: 0.04\n",
      "\n",
      "Progress: 57/60 questions completed (95.0%)\n",
      "\n",
      "============================================================\n",
      "📝 Question 58/60\n",
      "Subject: High School Mathematics\n",
      "Question: Let $h(4x-1) = 2x + 7$. For what value of $x$ is $h(x) = x$?\n",
      "\n",
      "🤖 GPT-4 [Question 58]\n"
     ]
    },
    {
     "name": "stderr",
     "output_type": "stream",
     "text": [
      "2024-12-01 12:24:07,221 - INFO - HTTP Request: POST https://access-01.openai.azure.com/openai/deployments/gpt-4o/chat/completions?api-version=2024-08-01-preview \"HTTP/1.1 200 OK\"\n"
     ]
    },
    {
     "name": "stdout",
     "output_type": "stream",
     "text": [
      "⏱️ Time: 7.92s\n",
      "\n",
      "🦙 TinyLlama [Question 58]\n"
     ]
    },
    {
     "name": "stderr",
     "output_type": "stream",
     "text": [
      "2024-12-01 12:24:21,120 - INFO - HTTP Request: POST http://127.0.0.1:11434/api/generate \"HTTP/1.1 200 OK\"\n"
     ]
    },
    {
     "name": "stdout",
     "output_type": "stream",
     "text": [
      "⏱️ Time: 13.89s\n",
      "\n",
      "📊 Evaluating responses...\n",
      "\n",
      "Detailed Scores for Question 58:\n",
      "\n",
      "GPT-4:\n",
      "correctness: 1.00\n",
      "mathematical_reasoning: 0.90\n",
      "solution_completeness: 0.50\n",
      "explanation_quality: 0.40\n",
      "coherence: 0.10\n",
      "time_efficiency: 0.90\n",
      "Final Score: 0.87\n",
      "\n",
      "TinyLlama:\n",
      "correctness: 0.00\n",
      "mathematical_reasoning: 0.00\n",
      "solution_completeness: 0.00\n",
      "explanation_quality: 0.00\n",
      "coherence: 0.00\n",
      "time_efficiency: 0.70\n",
      "Final Score: 0.03\n",
      "\n",
      "Progress: 58/60 questions completed (96.7%)\n",
      "\n",
      "============================================================\n",
      "📝 Question 59/60\n",
      "Subject: High School Mathematics\n",
      "Question: What is the product of the greatest even prime number and the least odd prime number?\n",
      "\n",
      "🤖 GPT-4 [Question 59]\n"
     ]
    },
    {
     "name": "stderr",
     "output_type": "stream",
     "text": [
      "2024-12-01 12:24:24,551 - INFO - HTTP Request: POST https://access-01.openai.azure.com/openai/deployments/gpt-4o/chat/completions?api-version=2024-08-01-preview \"HTTP/1.1 200 OK\"\n"
     ]
    },
    {
     "name": "stdout",
     "output_type": "stream",
     "text": [
      "⏱️ Time: 3.43s\n",
      "\n",
      "🦙 TinyLlama [Question 59]\n"
     ]
    },
    {
     "name": "stderr",
     "output_type": "stream",
     "text": [
      "2024-12-01 12:24:38,327 - INFO - HTTP Request: POST http://127.0.0.1:11434/api/generate \"HTTP/1.1 200 OK\"\n"
     ]
    },
    {
     "name": "stdout",
     "output_type": "stream",
     "text": [
      "⏱️ Time: 13.77s\n",
      "\n",
      "📊 Evaluating responses...\n",
      "\n",
      "Detailed Scores for Question 59:\n",
      "\n",
      "GPT-4:\n",
      "correctness: 1.00\n",
      "mathematical_reasoning: 0.35\n",
      "solution_completeness: 0.47\n",
      "explanation_quality: 0.35\n",
      "coherence: 0.45\n",
      "time_efficiency: 0.90\n",
      "Final Score: 0.66\n",
      "\n",
      "TinyLlama:\n",
      "correctness: 1.00\n",
      "mathematical_reasoning: 0.00\n",
      "solution_completeness: 0.12\n",
      "explanation_quality: 0.28\n",
      "coherence: 0.10\n",
      "time_efficiency: 0.70\n",
      "Final Score: 0.49\n",
      "\n",
      "Progress: 59/60 questions completed (98.3%)\n",
      "\n",
      "============================================================\n",
      "📝 Question 60/60\n",
      "Subject: High School Mathematics\n",
      "Question: Let $h(4x-1) = 2x + 7$. For what value of $x$ is $h(x) = x$?\n",
      "\n",
      "🤖 GPT-4 [Question 60]\n"
     ]
    },
    {
     "name": "stderr",
     "output_type": "stream",
     "text": [
      "2024-12-01 12:24:44,822 - INFO - HTTP Request: POST https://access-01.openai.azure.com/openai/deployments/gpt-4o/chat/completions?api-version=2024-08-01-preview \"HTTP/1.1 200 OK\"\n"
     ]
    },
    {
     "name": "stdout",
     "output_type": "stream",
     "text": [
      "⏱️ Time: 6.50s\n",
      "\n",
      "🦙 TinyLlama [Question 60]\n"
     ]
    },
    {
     "name": "stderr",
     "output_type": "stream",
     "text": [
      "2024-12-01 12:24:59,150 - INFO - HTTP Request: POST http://127.0.0.1:11434/api/generate \"HTTP/1.1 200 OK\"\n"
     ]
    },
    {
     "name": "stdout",
     "output_type": "stream",
     "text": [
      "⏱️ Time: 14.32s\n",
      "\n",
      "📊 Evaluating responses...\n",
      "\n",
      "Detailed Scores for Question 60:\n",
      "\n",
      "GPT-4:\n",
      "correctness: 1.00\n",
      "mathematical_reasoning: 0.80\n",
      "solution_completeness: 0.45\n",
      "explanation_quality: 0.32\n",
      "coherence: 0.40\n",
      "time_efficiency: 0.90\n",
      "Final Score: 0.84\n",
      "\n",
      "TinyLlama:\n",
      "correctness: 0.00\n",
      "mathematical_reasoning: 0.10\n",
      "solution_completeness: 0.04\n",
      "explanation_quality: 0.00\n",
      "coherence: 0.00\n",
      "time_efficiency: 0.70\n",
      "Final Score: 0.07\n",
      "\n",
      "💾 Saving intermediate results...\n",
      "\n",
      "Progress: 60/60 questions completed (100.0%)\n",
      "\n",
      "📊 Final Statistics:\n",
      "Total questions processed: 60\n",
      "Total time taken: 21.17 minutes\n",
      "Average time per question: 21.17 seconds\n",
      "\n",
      "📊 Subject-wise Performance:\n",
      "\n",
      "Abstract Algebra:\n",
      "GPT-4 Average Score: 0.65\n",
      "TinyLlama Average Score: 0.10\n",
      "\n",
      "College Mathematics:\n",
      "GPT-4 Average Score: 0.74\n",
      "TinyLlama Average Score: 0.18\n",
      "\n",
      "Elementary Mathematics:\n",
      "GPT-4 Average Score: 0.59\n",
      "TinyLlama Average Score: 0.19\n",
      "\n",
      "High School Mathematics:\n",
      "GPT-4 Average Score: 0.76\n",
      "TinyLlama Average Score: 0.26\n",
      "\n",
      "Overall Average Scores by Metric:\n",
      "\n",
      "GPT-4:\n",
      "correctness: 0.83\n",
      "mathematical_reasoning: 0.63\n",
      "solution_completeness: 0.39\n",
      "explanation_quality: 0.45\n",
      "coherence: 0.36\n",
      "time_efficiency: 0.88\n",
      "\n",
      "TinyLlama:\n",
      "correctness: 0.32\n",
      "mathematical_reasoning: 0.05\n",
      "solution_completeness: 0.03\n",
      "explanation_quality: 0.06\n",
      "coherence: 0.03\n",
      "time_efficiency: 0.66\n",
      "\n",
      "Final Overall Average Scores:\n",
      "GPT-4: 0.68\n",
      "TinyLlama: 0.18\n",
      "\n",
      "📊 Performance analysis saved to model_evaluation_results_20241201_120348_analysis.html\n",
      "\n",
      "✅ Evaluation completed - Results saved to model_evaluation_results_20241201_120348.csv\n"
     ]
    }
   ],
   "source": [
    "# Cell 3: Main Execution\n",
    "def main():\n",
    "    print(\"🚀 Starting Enhanced Math Problem Evaluation System\")\n",
    "    \n",
    "    try:\n",
    "        evaluator = ModelEvaluator(\n",
    "            azure_endpoint=azure_endpoint,\n",
    "            deployment_name=deployment_name,\n",
    "            api_version=api_version,\n",
    "            api_key=api_key\n",
    "        )\n",
    "        \n",
    "        evaluator.evaluate_questions(\n",
    "            input_csv='mmlu_math_questions.csv',\n",
    "            output_csv=f'model_evaluation_results_{datetime.now().strftime(\"%Y%m%d_%H%M%S\")}.csv'\n",
    "        )\n",
    "        \n",
    "    except Exception as e:\n",
    "        print(f\"\\n❌ Error in main execution: {e}\")\n",
    "        raise\n",
    "\n",
    "# Cell 4: Run the evaluation\n",
    "if __name__ == \"__main__\":\n",
    "    main()"
   ]
  }
 ],
 "metadata": {
  "kernelspec": {
   "display_name": "Python 3",
   "language": "python",
   "name": "python3"
  },
  "language_info": {
   "codemirror_mode": {
    "name": "ipython",
    "version": 3
   },
   "file_extension": ".py",
   "mimetype": "text/x-python",
   "name": "python",
   "nbconvert_exporter": "python",
   "pygments_lexer": "ipython3",
   "version": "3.11.5"
  }
 },
 "nbformat": 4,
 "nbformat_minor": 2
}
